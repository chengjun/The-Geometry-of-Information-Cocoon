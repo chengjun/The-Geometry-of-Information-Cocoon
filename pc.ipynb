{
 "cells": [
  {
   "cell_type": "code",
   "execution_count": 5,
   "metadata": {
    "ExecuteTime": {
     "end_time": "2020-07-06T04:37:36.819774Z",
     "start_time": "2020-07-06T04:37:36.803535Z"
    }
   },
   "outputs": [],
   "source": [
    "import numpy as np\n",
    "from collections import Counter\n",
    "import pandas as pd\n",
    "import re\n",
    "import datetime\n",
    "import sys\n",
    "from glob import glob\n",
    "import seaborn as sns\n",
    "import gensim\n",
    "from scipy import spatial\n",
    "import multiprocessing\n",
    "from gensim.models.doc2vec import Doc2Vec, LabeledSentence\n",
    "import matplotlib.pyplot as plt\n",
    "import statsmodels.formula.api as smf\n",
    "# from gensim.test.utils import common_texts, get_tmpfile\n",
    "from gensim.models import Word2Vec\n",
    "from sklearn import svm\n",
    "from sklearn.model_selection import KFold\n",
    "from sklearn.metrics import r2_score\n",
    "pd.set_option('display.max_columns',None)\n",
    "pd.set_option('display.width', 10000)\n",
    "pd.set_option('display.max_colwidth',10000)"
   ]
  },
  {
   "cell_type": "code",
   "execution_count": 6,
   "metadata": {
    "ExecuteTime": {
     "end_time": "2020-07-06T04:37:37.206233Z",
     "start_time": "2020-07-06T04:37:37.201887Z"
    }
   },
   "outputs": [],
   "source": [
    "def flushPrint(s):\n",
    "    sys.stdout.write('\\r')\n",
    "    sys.stdout.write('%s' % s)\n",
    "    sys.stdout.flush()"
   ]
  },
  {
   "cell_type": "markdown",
   "metadata": {
    "heading_collapsed": true
   },
   "source": [
    "#### demographic"
   ]
  },
  {
   "cell_type": "code",
   "execution_count": 3,
   "metadata": {
    "ExecuteTime": {
     "end_time": "2020-06-02T07:08:44.849586Z",
     "start_time": "2020-06-02T07:08:44.819647Z"
    },
    "hidden": true
   },
   "outputs": [],
   "source": [
    "demo=pd.read_csv('./CNNIC_Clickstream1000_Data/data/demographic.csv')"
   ]
  },
  {
   "cell_type": "code",
   "execution_count": 4,
   "metadata": {
    "ExecuteTime": {
     "end_time": "2020-06-02T07:08:45.689188Z",
     "start_time": "2020-06-02T07:08:45.683599Z"
    },
    "hidden": true
   },
   "outputs": [
    {
     "data": {
      "text/plain": [
       "Index(['USERID', 'GENDER', 'BIRTHDAY', 'EDU', 'JOB', 'INCOME', 'PROVINCE', 'CITY', 'ISCITY'], dtype='object')"
      ]
     },
     "execution_count": 4,
     "metadata": {},
     "output_type": "execute_result"
    }
   ],
   "source": [
    "demo.columns"
   ]
  },
  {
   "cell_type": "code",
   "execution_count": 5,
   "metadata": {
    "ExecuteTime": {
     "end_time": "2020-06-02T07:08:46.634323Z",
     "start_time": "2020-06-02T07:08:46.618103Z"
    },
    "hidden": true
   },
   "outputs": [],
   "source": [
    "job = {'学生':np.nan,'其他':np.nan,'退休':np.nan, \n",
    "       '无业、下岗、失业':1,\n",
    "        '农民':2,\n",
    "        '农村外出务工人员':3, \n",
    "        '产业、服务业工人':4,\n",
    "        '个体户/自由职业者':5,\n",
    "        '企业/公司一般职员':6,'党政机关事业单位一般职员':6,\n",
    "        '专业技术人员':7,\n",
    "        '企业/公司管理者':8,\n",
    "        '党政机关事业单位工作者':9, '党政机关事业单位领导干部':10}\n",
    "demo['job'] = [job[i] for i in demo['JOB']]"
   ]
  },
  {
   "cell_type": "code",
   "execution_count": 6,
   "metadata": {
    "ExecuteTime": {
     "end_time": "2020-06-02T07:08:47.458196Z",
     "start_time": "2020-06-02T07:08:47.453144Z"
    },
    "hidden": true
   },
   "outputs": [],
   "source": [
    "inc = ['无收入', '500元及以下','501～1000元','1001～1500元',\n",
    " '1501～2000元',  '2001～3000元','3001～5000元',\n",
    " '5001～8000元','8001～12000元',   '12000元以上' ]\n",
    "inc = {i: k+1 for k, i in enumerate(inc)}\n",
    "demo['income'] = [inc[i] for i in demo['INCOME']]"
   ]
  },
  {
   "cell_type": "code",
   "execution_count": 7,
   "metadata": {
    "ExecuteTime": {
     "end_time": "2020-06-02T07:08:48.522757Z",
     "start_time": "2020-06-02T07:08:48.518281Z"
    },
    "hidden": true
   },
   "outputs": [],
   "source": [
    "edu = ['小学及以下','初中','高中/中专/技校', '大专','大学本科','硕士及以上']\n",
    "edu = {i: k+1 for k, i in enumerate(edu)}\n",
    "demo['edu'] = [edu[i] for i in demo['EDU']]"
   ]
  },
  {
   "cell_type": "code",
   "execution_count": 8,
   "metadata": {
    "ExecuteTime": {
     "end_time": "2020-06-02T07:08:49.098638Z",
     "start_time": "2020-06-02T07:08:49.093141Z"
    },
    "hidden": true
   },
   "outputs": [],
   "source": [
    "demo['age'] = [2012-i for i in demo['BIRTHDAY']]\n",
    "demo['male'] = [1 if i=='男' else 0 for i in demo['GENDER'] ]"
   ]
  },
  {
   "cell_type": "code",
   "execution_count": 9,
   "metadata": {
    "ExecuteTime": {
     "end_time": "2020-06-02T07:08:49.587958Z",
     "start_time": "2020-06-02T07:08:49.577760Z"
    },
    "hidden": true
   },
   "outputs": [
    {
     "data": {
      "text/plain": [
       "(31.015, 9.270313571487959)"
      ]
     },
     "execution_count": 9,
     "metadata": {},
     "output_type": "execute_result"
    }
   ],
   "source": [
    "demo['age'].mean(),demo['age'].std()"
   ]
  },
  {
   "cell_type": "code",
   "execution_count": 10,
   "metadata": {
    "ExecuteTime": {
     "end_time": "2020-06-02T07:08:50.256817Z",
     "start_time": "2020-06-02T07:08:50.251025Z"
    },
    "hidden": true
   },
   "outputs": [
    {
     "data": {
      "text/plain": [
       "Counter({0: 224, 1: 776})"
      ]
     },
     "execution_count": 10,
     "metadata": {},
     "output_type": "execute_result"
    }
   ],
   "source": [
    "Counter(demo['male'].values)"
   ]
  },
  {
   "cell_type": "code",
   "execution_count": 11,
   "metadata": {
    "ExecuteTime": {
     "end_time": "2020-06-02T07:08:50.899472Z",
     "start_time": "2020-06-02T07:08:50.894510Z"
    },
    "hidden": true
   },
   "outputs": [
    {
     "data": {
      "text/plain": [
       "Counter({'专业技术人员': 144,\n",
       "         '个体户/自由职业者': 96,\n",
       "         '产业、服务业工人': 31,\n",
       "         '企业/公司一般职员': 211,\n",
       "         '企业/公司管理者': 98,\n",
       "         '党政机关事业单位一般职员': 94,\n",
       "         '党政机关事业单位工作者': 2,\n",
       "         '党政机关事业单位领导干部': 25,\n",
       "         '其他': 63,\n",
       "         '农村外出务工人员': 21,\n",
       "         '农民': 6,\n",
       "         '学生': 175,\n",
       "         '无业、下岗、失业': 22,\n",
       "         '退休': 12})"
      ]
     },
     "execution_count": 11,
     "metadata": {},
     "output_type": "execute_result"
    }
   ],
   "source": [
    "Counter(demo['JOB'].values)"
   ]
  },
  {
   "cell_type": "code",
   "execution_count": 12,
   "metadata": {
    "ExecuteTime": {
     "end_time": "2020-06-02T07:08:51.647692Z",
     "start_time": "2020-06-02T07:08:51.643006Z"
    },
    "hidden": true
   },
   "outputs": [
    {
     "data": {
      "text/plain": [
       "Counter({'初中': 69,\n",
       "         '大专': 290,\n",
       "         '大学本科': 392,\n",
       "         '小学及以下': 3,\n",
       "         '硕士及以上': 56,\n",
       "         '高中/中专/技校': 190})"
      ]
     },
     "execution_count": 12,
     "metadata": {},
     "output_type": "execute_result"
    }
   ],
   "source": [
    "Counter(demo['EDU'].values)"
   ]
  },
  {
   "cell_type": "code",
   "execution_count": 13,
   "metadata": {
    "ExecuteTime": {
     "end_time": "2020-06-02T07:08:52.414896Z",
     "start_time": "2020-06-02T07:08:52.409806Z"
    },
    "hidden": true
   },
   "outputs": [
    {
     "data": {
      "text/plain": [
       "Counter({'unknown': 160, '乡村': 127, '城市': 640, '城郊': 73})"
      ]
     },
     "execution_count": 13,
     "metadata": {},
     "output_type": "execute_result"
    }
   ],
   "source": [
    "Counter(demo['ISCITY'].values)"
   ]
  },
  {
   "cell_type": "code",
   "execution_count": 14,
   "metadata": {
    "ExecuteTime": {
     "end_time": "2020-06-02T07:08:53.078634Z",
     "start_time": "2020-06-02T07:08:53.075251Z"
    },
    "hidden": true
   },
   "outputs": [],
   "source": [
    "# east = ['浙江', '广东', '上海', '江西', '天津', '安徽', '黑龙江', '北京',\n",
    "#        '江苏', '湖南', '福建', '云南', '山东', '陕西', '河北', '辽宁','贵州', '重庆',\n",
    "#        '山西', '广西', '湖北', '吉林', '台湾', '海南']\n",
    "\n",
    "# demo['east'] = 0\n",
    "# demo['east'][demo['PROVINCE'].isin(east)] =1"
   ]
  },
  {
   "cell_type": "code",
   "execution_count": 15,
   "metadata": {
    "ExecuteTime": {
     "end_time": "2020-05-11T08:57:30.162854Z",
     "start_time": "2020-05-11T08:57:30.159017Z"
    },
    "hidden": true
   },
   "outputs": [],
   "source": [
    "# def city_cate (x):\n",
    "#     if x=='城市':\n",
    "#         return 3\n",
    "#     if x=='城郊':\n",
    "#         return 2\n",
    "#     if x=='乡村':\n",
    "#         return 1\n",
    "#     if x=='unknown':\n",
    "#         return np.nan\n",
    "# demo['iscity']=demo['ISCITY'].apply(lambda x: city_cate(x))"
   ]
  },
  {
   "cell_type": "code",
   "execution_count": 16,
   "metadata": {
    "ExecuteTime": {
     "end_time": "2020-05-11T08:57:30.623928Z",
     "start_time": "2020-05-11T08:57:30.574986Z"
    },
    "hidden": true
   },
   "outputs": [],
   "source": [
    "city=pd.read_excel('./city.xlsx')"
   ]
  },
  {
   "cell_type": "code",
   "execution_count": 17,
   "metadata": {
    "ExecuteTime": {
     "end_time": "2020-05-11T08:57:30.941811Z",
     "start_time": "2020-05-11T08:57:30.937370Z"
    },
    "hidden": true
   },
   "outputs": [
    {
     "data": {
      "text/plain": [
       "336"
      ]
     },
     "execution_count": 17,
     "metadata": {},
     "output_type": "execute_result"
    }
   ],
   "source": [
    "len(city)"
   ]
  },
  {
   "cell_type": "code",
   "execution_count": 18,
   "metadata": {
    "ExecuteTime": {
     "end_time": "2020-05-11T08:57:31.340783Z",
     "start_time": "2020-05-11T08:57:31.289211Z"
    },
    "hidden": true
   },
   "outputs": [],
   "source": [
    "demo['CITY']=demo.apply(lambda x: x.PROVINCE if x.PROVINCE in ['北京','上海','天津','重庆'] else x.CITY, axis=1)\n",
    "city['province']=city['city'].apply(lambda x: x.split('：')[0])\n",
    "city['city']=city['city'].apply(lambda x: re.sub('市','',x.split('：')[1]) if len(x.split('：'))>1 else re.sub('市','',x))\n",
    "city['city']=city['city'].apply(lambda x: re.sub('地区','',x))\n",
    "diction_city=dict(city[['city','rank']].values)"
   ]
  },
  {
   "cell_type": "code",
   "execution_count": 19,
   "metadata": {
    "ExecuteTime": {
     "end_time": "2020-05-11T08:57:31.796220Z",
     "start_time": "2020-05-11T08:57:31.788027Z"
    },
    "hidden": true
   },
   "outputs": [],
   "source": [
    "diction_city['襄樊']=4\n",
    "diction_city['巢湖']=3\n",
    "diction_city['昌吉']=6\n",
    "diction_city['台南']=2\n",
    "diction_city['石河子']=6\n",
    "diction_city['莱芜']=3\n",
    "diction_city['临夏']=6\n",
    "diction_city['攀枝花']=6\n",
    "diction_city['楚雄']=6\n",
    "diction_city['黔西南']=6\n",
    "diction_city['琼海']=5"
   ]
  },
  {
   "cell_type": "code",
   "execution_count": 20,
   "metadata": {
    "ExecuteTime": {
     "end_time": "2020-05-11T08:57:32.424270Z",
     "start_time": "2020-05-11T08:57:32.419911Z"
    },
    "hidden": true
   },
   "outputs": [],
   "source": [
    "demo['city_rank']=demo['CITY'].apply(lambda x: diction_city[x])"
   ]
  },
  {
   "cell_type": "code",
   "execution_count": 21,
   "metadata": {
    "ExecuteTime": {
     "end_time": "2020-05-11T08:57:33.342709Z",
     "start_time": "2020-05-11T08:57:33.337745Z"
    },
    "hidden": true,
    "scrolled": true
   },
   "outputs": [
    {
     "data": {
      "text/plain": [
       "Counter({1: 64, 2: 109, 3: 180, 4: 202, 5: 230, 6: 215})"
      ]
     },
     "execution_count": 21,
     "metadata": {},
     "output_type": "execute_result"
    }
   ],
   "source": [
    "Counter(demo['city_rank'].values)"
   ]
  },
  {
   "cell_type": "markdown",
   "metadata": {
    "heading_collapsed": true
   },
   "source": [
    "#### behavior"
   ]
  },
  {
   "cell_type": "code",
   "execution_count": 23,
   "metadata": {
    "ExecuteTime": {
     "end_time": "2020-04-30T09:55:28.152531Z",
     "start_time": "2020-04-30T09:55:28.141468Z"
    },
    "hidden": true
   },
   "outputs": [],
   "source": [
    "case_p='./CNNIC_Clickstream1000_Data/data/behavior/2012-05-07/0238BF8BE49F536ABC8F6670B766CAA7_2012-05-07_10-11-57.txt'\n",
    "with open(case_p) as f:\n",
    "    case=f.readlines()"
   ]
  },
  {
   "cell_type": "code",
   "execution_count": 11,
   "metadata": {
    "ExecuteTime": {
     "end_time": "2020-04-08T02:42:53.282470Z",
     "start_time": "2020-04-08T02:42:53.278689Z"
    },
    "hidden": true,
    "scrolled": false
   },
   "outputs": [
    {
     "data": {
      "text/plain": [
       "['Last<=>48191\\n',\n",
       " 'L_Start<=>2012-05-07 10-11-57\\n',\n",
       " 'T<=>57[=]P<=>explorer.exe[=]I<=>1324[=]W<=>10094[=]V<=>6.00.2900.5512\\n']"
      ]
     },
     "execution_count": 11,
     "metadata": {},
     "output_type": "execute_result"
    }
   ],
   "source": [
    "case[:3]"
   ]
  },
  {
   "cell_type": "code",
   "execution_count": 49,
   "metadata": {
    "ExecuteTime": {
     "end_time": "2020-04-05T13:55:25.861563Z",
     "start_time": "2020-04-05T13:52:30.806842Z"
    },
    "hidden": true
   },
   "outputs": [
    {
     "name": "stdout",
     "output_type": "stream",
     "text": [
      "999"
     ]
    }
   ],
   "source": [
    "for n,name in enumerate(demo['USERID'].values): \n",
    "    flushPrint(n)\n",
    "    files=sorted(glob('./CNNIC_Clickstream1000_Data/data/behavior/*'))\n",
    "    for file in files:\n",
    "        f=glob(file+'/*')\n",
    "        for i in f:\n",
    "            if name in i:\n",
    "                with open(i) as f:\n",
    "                    case=f.readlines()\n",
    "                a=[j.split('[=]')[1].split('<=>')[1] if len(j.split('[=]'))>1 else np.nan for j in case[2:]]\n",
    "                b=[j.split('U<=>')[1].split('[=]')[0] if 'U<=>' in j else np.nan for j in case[2:]]\n",
    "                a=pd.DataFrame(a)\n",
    "                a['b']=b\n",
    "                a.to_csv('./CNNIC_Clickstream1000_Data/data/users/'+name+'.csv',mode='a+',index=False,header=False)"
   ]
  },
  {
   "cell_type": "code",
   "execution_count": 142,
   "metadata": {
    "ExecuteTime": {
     "end_time": "2020-04-05T15:28:57.790269Z",
     "start_time": "2020-04-05T15:25:39.157528Z"
    },
    "hidden": true
   },
   "outputs": [
    {
     "name": "stdout",
     "output_type": "stream",
     "text": [
      "979"
     ]
    }
   ],
   "source": [
    "all_s=[]\n",
    "files=sorted(glob('./CNNIC_Clickstream1000_Data/data/users/*'))\n",
    "for n,f in enumerate(files):\n",
    "    flushPrint(n)\n",
    "    data=pd.read_csv(f,names=['exe','http'])\n",
    "    data['final']=data.apply(lambda x: x['exe'] if type(x.http)==float else x.http, axis=1)\n",
    "    data['final']=data['final'].apply(lambda x: x.replace('http://','').replace('https://','').split('/')[0] if type(x)==str else x)\n",
    "    all_s.extend(set(data['final'].values))\n",
    "a=pd.DataFrame()\n",
    "a['a']=list(set(all_s))"
   ]
  },
  {
   "cell_type": "code",
   "execution_count": 144,
   "metadata": {
    "ExecuteTime": {
     "end_time": "2020-04-05T15:29:25.899053Z",
     "start_time": "2020-04-05T15:29:25.895241Z"
    },
    "hidden": true
   },
   "outputs": [
    {
     "data": {
      "text/plain": [
       "214448"
      ]
     },
     "execution_count": 144,
     "metadata": {},
     "output_type": "execute_result"
    }
   ],
   "source": [
    "len(all_s)"
   ]
  },
  {
   "cell_type": "code",
   "execution_count": 146,
   "metadata": {
    "ExecuteTime": {
     "end_time": "2020-04-05T15:30:29.685301Z",
     "start_time": "2020-04-05T15:30:29.566783Z"
    },
    "hidden": true
   },
   "outputs": [],
   "source": [
    "a.to_csv('./CNNIC_Clickstream1000_Data/data/'+'all_s'+'.csv',mode='a+',index=False,header=False)"
   ]
  },
  {
   "cell_type": "code",
   "execution_count": 147,
   "metadata": {
    "ExecuteTime": {
     "end_time": "2020-04-05T15:30:33.042503Z",
     "start_time": "2020-04-05T15:30:32.642806Z"
    },
    "hidden": true
   },
   "outputs": [],
   "source": [
    "a=pd.DataFrame()\n",
    "a['a']=all_s\n",
    "a.to_csv('./CNNIC_Clickstream1000_Data/data/'+'all_ss'+'.csv',mode='a+',index=False,header=False)"
   ]
  },
  {
   "cell_type": "code",
   "execution_count": 3,
   "metadata": {
    "ExecuteTime": {
     "end_time": "2020-04-10T05:11:30.245220Z",
     "start_time": "2020-04-10T05:11:30.059505Z"
    },
    "hidden": true
   },
   "outputs": [],
   "source": [
    "a=pd.read_csv('./CNNIC_Clickstream1000_Data/data/all_ss.csv',names=['a'])"
   ]
  },
  {
   "cell_type": "code",
   "execution_count": 4,
   "metadata": {
    "ExecuteTime": {
     "end_time": "2020-04-10T05:11:36.421616Z",
     "start_time": "2020-04-10T05:11:36.207418Z"
    },
    "hidden": true
   },
   "outputs": [],
   "source": [
    "b=a.groupby(['a'])['a'].count().reset_index(name='count').sort_values(by=['count'],ascending=False)"
   ]
  },
  {
   "cell_type": "code",
   "execution_count": 8,
   "metadata": {
    "ExecuteTime": {
     "end_time": "2020-04-10T05:13:10.117315Z",
     "start_time": "2020-04-10T05:13:10.113621Z"
    },
    "hidden": true
   },
   "outputs": [
    {
     "data": {
      "text/plain": [
       "71507"
      ]
     },
     "execution_count": 8,
     "metadata": {},
     "output_type": "execute_result"
    }
   ],
   "source": [
    "len(b)"
   ]
  },
  {
   "cell_type": "code",
   "execution_count": 151,
   "metadata": {
    "ExecuteTime": {
     "end_time": "2020-04-05T15:30:55.909340Z",
     "start_time": "2020-04-05T15:30:55.903417Z"
    },
    "hidden": true
   },
   "outputs": [
    {
     "data": {
      "text/plain": [
       "8149"
      ]
     },
     "execution_count": 151,
     "metadata": {},
     "output_type": "execute_result"
    }
   ],
   "source": [
    "# len(b[b['count']>=5])"
   ]
  },
  {
   "cell_type": "code",
   "execution_count": 155,
   "metadata": {
    "ExecuteTime": {
     "end_time": "2020-04-05T15:32:42.833880Z",
     "start_time": "2020-04-05T15:32:42.829244Z"
    },
    "hidden": true
   },
   "outputs": [],
   "source": [
    "# b=b[b['count']>=5]"
   ]
  },
  {
   "cell_type": "code",
   "execution_count": 18,
   "metadata": {
    "ExecuteTime": {
     "end_time": "2020-04-10T05:15:27.289852Z",
     "start_time": "2020-04-10T05:15:23.793133Z"
    },
    "hidden": true
   },
   "outputs": [],
   "source": [
    "b.to_excel('./CNNIC_Clickstream1000_Data/data/category_.xlsx',index=False,encoding=\"utf_8_sig\",header=False)"
   ]
  },
  {
   "cell_type": "markdown",
   "metadata": {
    "heading_collapsed": true
   },
   "source": [
    "#### model"
   ]
  },
  {
   "cell_type": "code",
   "execution_count": 3,
   "metadata": {
    "ExecuteTime": {
     "end_time": "2020-06-05T15:30:09.128708Z",
     "start_time": "2020-06-05T15:30:09.119877Z"
    },
    "hidden": true
   },
   "outputs": [],
   "source": [
    "def normalize(v):\n",
    "    norm = np.linalg.norm(v)\n",
    "    if norm == 0:\n",
    "        return v\n",
    "    return v / norm\n",
    "\n",
    "def projection(one, two):\n",
    "    # cosine similarity\n",
    "    return (1 - spatial.distance.cosine(one, two))\n",
    "\n",
    "def cosine2angle(i):\n",
    "    return np.arccos(i) / np.pi * 180 #长度换角度"
   ]
  },
  {
   "cell_type": "code",
   "execution_count": 4,
   "metadata": {
    "ExecuteTime": {
     "end_time": "2020-06-05T15:30:09.821276Z",
     "start_time": "2020-06-05T15:30:09.818380Z"
    },
    "hidden": true
   },
   "outputs": [],
   "source": [
    "TaggededDocument = gensim.models.doc2vec.TaggedDocument"
   ]
  },
  {
   "cell_type": "code",
   "execution_count": 5,
   "metadata": {
    "ExecuteTime": {
     "end_time": "2020-06-05T15:30:11.063458Z",
     "start_time": "2020-06-05T15:30:10.954004Z"
    },
    "hidden": true
   },
   "outputs": [],
   "source": [
    "category=pd.read_csv('./combine.csv',names=['exe','low','category'])\n",
    "diction=dict(category[['low','category']].values)"
   ]
  },
  {
   "cell_type": "code",
   "execution_count": 41,
   "metadata": {
    "ExecuteTime": {
     "end_time": "2020-06-05T15:59:54.026785Z",
     "start_time": "2020-06-05T15:59:53.905764Z"
    },
    "hidden": true
   },
   "outputs": [
    {
     "name": "stdout",
     "output_type": "stream",
     "text": [
      "\r",
      "0"
     ]
    }
   ],
   "source": [
    "files=glob('./CNNIC_Clickstream1000_Data/data/users/*.csv')\n",
    "freq=[]\n",
    "for i,f in enumerate(files[:1]):\n",
    "    flushPrint(i)\n",
    "    data=pd.read_csv(f,names=['exe','http'])\n",
    "    data['final']=data.apply(lambda x: x['exe'] if type(x.http)==float else x.http, axis=1)\n",
    "    data['final']=data['final'].apply(lambda x: x.replace('http://','').replace('https://','').split('/')[0] if type(x)==str else x)\n",
    "    data['low']=data['final'].apply(lambda x: x.lower() if type(x)== str else x)\n",
    "    data['low1']=data['low'].apply(lambda x: re.sub('.exe','',x) if type(x)== str else x)\n",
    "    data['category']=data['low1'].apply(lambda x: diction[x] if x in diction else np.nan)\n",
    "    data['category']=data['category'].fillna(19.0)\n",
    "    cate=data[np.isnan(data['category'])==False]\n",
    "    freq.append(dict(Counter(cate['category'])))"
   ]
  },
  {
   "cell_type": "code",
   "execution_count": 119,
   "metadata": {
    "ExecuteTime": {
     "end_time": "2020-04-25T07:12:24.736606Z",
     "start_time": "2020-04-25T07:12:24.719952Z"
    },
    "hidden": true
   },
   "outputs": [],
   "source": [
    "# info=pd.read_csv('./rg_raw1.csv',names=['USERID','radius','maxmin','min','cate_radius','min_has'])"
   ]
  },
  {
   "cell_type": "code",
   "execution_count": 123,
   "metadata": {
    "ExecuteTime": {
     "end_time": "2020-04-25T07:13:24.350144Z",
     "start_time": "2020-04-25T07:13:24.346947Z"
    },
    "hidden": true
   },
   "outputs": [],
   "source": [
    "# info['freq']=freq"
   ]
  },
  {
   "cell_type": "code",
   "execution_count": 124,
   "metadata": {
    "ExecuteTime": {
     "end_time": "2020-04-25T07:14:02.550364Z",
     "start_time": "2020-04-25T07:14:02.504976Z"
    },
    "hidden": true
   },
   "outputs": [],
   "source": [
    "# info.to_csv('./rg_raw1.csv',index=False)"
   ]
  },
  {
   "cell_type": "code",
   "execution_count": 44,
   "metadata": {
    "ExecuteTime": {
     "end_time": "2020-06-05T16:00:32.921121Z",
     "start_time": "2020-06-05T16:00:32.777993Z"
    },
    "hidden": true
   },
   "outputs": [
    {
     "name": "stdout",
     "output_type": "stream",
     "text": [
      "\r",
      "0"
     ]
    }
   ],
   "source": [
    "files=glob('./CNNIC_Clickstream1000_Data/data/users/*.csv')\n",
    "x_train=[]\n",
    "for i,f in enumerate(files):\n",
    "    flushPrint(i)\n",
    "    data=pd.read_csv(f,names=['exe','http'])\n",
    "    data['final']=data.apply(lambda x: x['exe'] if type(x.http)==float else x.http, axis=1)\n",
    "    data['final']=data['final'].apply(lambda x: x.replace('http://','').replace('https://','').split('/')[0] if type(x)==str else x)\n",
    "    data['low']=data['final'].apply(lambda x: x.lower() if type(x)== str else x)\n",
    "    data['low1']=data['low'].apply(lambda x: re.sub('.exe','',x) if type(x)== str else x)\n",
    "    data['category']=data['low1'].apply(lambda x: diction[x] if x in diction else np.nan)\n",
    "    data['category']=data['category'].fillna(19.0)\n",
    "    doc=list(data['low1'].values)\n",
    "    word_list=[]\n",
    "    for j in range(len(doc)-1):\n",
    "        try:\n",
    "            if doc[j]!=doc[j+1]:\n",
    "                word_list.extend([str(diction[doc[j]]),doc[j]])\n",
    "        except:\n",
    "            pass\n",
    "    document = TaggededDocument(word_list, tags=[i])\n",
    "    x_train.append(document)"
   ]
  },
  {
   "cell_type": "code",
   "execution_count": 105,
   "metadata": {
    "ExecuteTime": {
     "end_time": "2020-04-21T15:07:36.374019Z",
     "start_time": "2020-04-21T15:02:57.051009Z"
    },
    "hidden": true,
    "scrolled": true
   },
   "outputs": [
    {
     "name": "stderr",
     "output_type": "stream",
     "text": [
      "/Users/xuhuimin/anaconda3/lib/python3.6/site-packages/gensim/models/doc2vec.py:366: UserWarning: The parameter `size` is deprecated, will be removed in 4.0.0, use `vector_size` instead.\n",
      "  warnings.warn(\"The parameter `size` is deprecated, will be removed in 4.0.0, use `vector_size` instead.\")\n"
     ]
    }
   ],
   "source": [
    "# def train(x_train, size=300, epoch_num=1):\n",
    "#     model_dm = Doc2Vec(x_train, size = size, dbow_words=1, min_count=1)\n",
    "#     model_dm.train(x_train, total_examples=model_dm.corpus_count, epochs=70)\n",
    "#     model_dm.save('doc2vec1')\n",
    "#     return model_dm\n",
    "\n",
    "# model_dm=train(x_train)"
   ]
  },
  {
   "cell_type": "code",
   "execution_count": 8,
   "metadata": {
    "ExecuteTime": {
     "end_time": "2020-06-05T15:35:34.086717Z",
     "start_time": "2020-06-05T15:35:33.107444Z"
    },
    "hidden": true
   },
   "outputs": [],
   "source": [
    "model_dm=Doc2Vec.load('doc2vec1')"
   ]
  },
  {
   "cell_type": "code",
   "execution_count": 15,
   "metadata": {
    "ExecuteTime": {
     "end_time": "2020-06-05T15:43:00.490218Z",
     "start_time": "2020-06-05T15:38:03.022244Z"
    },
    "code_folding": [],
    "hidden": true
   },
   "outputs": [
    {
     "name": "stdout",
     "output_type": "stream",
     "text": [
      "979"
     ]
    }
   ],
   "source": [
    "radius=[]\n",
    "for j in range(len(x_train)):\n",
    "    flushPrint(j)\n",
    "    try:\n",
    "#         c1=[]\n",
    "#         for i in range((len(x_train[j].words)+1)//2):\n",
    "#             c=(-projection(normalize(model_dm.docvecs[x_train[j].tags[0]]),normalize(model_dm[x_train[j].words[2*i+1]]))+1)/2\n",
    "#             c1.append(c)\n",
    "#         c2=np.sqrt(np.sum([i**2/len(c1) for i in c1]))\n",
    "#         c3=max(c1)-min(c1)\n",
    "#         new_names=['1.0', '2.0', '3.0', '4.0', '5.0', '6.0', '7.0', '8.0', '9.0', '10.0', '11.0', '12.0', '13.0', '14.0', '16.0']\n",
    "#         d={}\n",
    "#         for m in range(len(new_names)):\n",
    "#             a1=[]\n",
    "#             for i in [dic for dic in diction if str(diction[dic])==new_names[m]]:\n",
    "#                 try:\n",
    "#                     a=(-projection(normalize(model_dm.docvecs[x_train[j].tags[0]]),normalize(model_dm[i]))+1)/2\n",
    "#                 except:\n",
    "#                     pass\n",
    "#                 a1.append(a)     \n",
    "#             d[new_names[m]]=min(a1)  \n",
    "        new_names=['1.0', '2.0', '3.0', '4.0', '5.0', '6.0', '7.0', '8.0', '9.0', '10.0', '11.0', '12.0', '13.0', '14.0','15.0','16.0',\n",
    "                  '17.0', '18.0', '19.0']\n",
    "        d1={}\n",
    "        for m in range(len(new_names)):\n",
    "            a1=[]\n",
    "            for i in range((len(x_train[j].words)+1)//2):\n",
    "                if x_train[j].words[2*i]==new_names[m]:\n",
    "                    a=(-projection(normalize(model_dm.docvecs[x_train[j].tags[0]]),normalize(model_dm[x_train[j].words[2*i+1]]))+1)/2\n",
    "                    a1.append(a)\n",
    "                    d1[new_names[m]]=a1\n",
    "            if new_names[m] not in d1:\n",
    "                d1[new_names[m]]=1\n",
    "\n",
    "        radius.append([x_train[j].tags[0],d1])\n",
    "    except:\n",
    "        radius.append([x_train[j].tags[0],0])\n",
    "        print(i)\n",
    "        pass\n",
    "d=pd.DataFrame(radius)"
   ]
  },
  {
   "cell_type": "code",
   "execution_count": 27,
   "metadata": {
    "ExecuteTime": {
     "end_time": "2020-06-05T15:46:34.291843Z",
     "start_time": "2020-06-05T15:46:30.561658Z"
    },
    "hidden": true
   },
   "outputs": [],
   "source": [
    "title=[i.split('/')[-1].split('.')[0] for i in files]\n",
    "d[0]=title\n",
    "d.to_csv('./rg_raw1.csv',index=False,header=False)"
   ]
  },
  {
   "cell_type": "markdown",
   "metadata": {
    "heading_collapsed": true,
    "hidden": true
   },
   "source": [
    "##### case-most_similar(people-exe)"
   ]
  },
  {
   "cell_type": "code",
   "execution_count": 33,
   "metadata": {
    "ExecuteTime": {
     "end_time": "2020-04-08T03:16:29.835837Z",
     "start_time": "2020-04-08T03:16:29.294825Z"
    },
    "hidden": true
   },
   "outputs": [],
   "source": [
    "category=pd.read_excel('./CNNIC_Clickstream1000_Data/data/category.xlsx')"
   ]
  },
  {
   "cell_type": "code",
   "execution_count": 34,
   "metadata": {
    "ExecuteTime": {
     "end_time": "2020-04-08T03:16:37.417332Z",
     "start_time": "2020-04-08T03:16:37.409834Z"
    },
    "hidden": true
   },
   "outputs": [
    {
     "data": {
      "text/html": [
       "<div>\n",
       "<style scoped>\n",
       "    .dataframe tbody tr th:only-of-type {\n",
       "        vertical-align: middle;\n",
       "    }\n",
       "\n",
       "    .dataframe tbody tr th {\n",
       "        vertical-align: top;\n",
       "    }\n",
       "\n",
       "    .dataframe thead th {\n",
       "        text-align: right;\n",
       "    }\n",
       "</style>\n",
       "<table border=\"1\" class=\"dataframe\">\n",
       "  <thead>\n",
       "    <tr style=\"text-align: right;\">\n",
       "      <th></th>\n",
       "      <th>a</th>\n",
       "      <th>count</th>\n",
       "    </tr>\n",
       "  </thead>\n",
       "  <tbody>\n",
       "    <tr>\n",
       "      <th>0</th>\n",
       "      <td>explorer</td>\n",
       "      <td>21244</td>\n",
       "    </tr>\n",
       "    <tr>\n",
       "      <th>1</th>\n",
       "      <td>QQ</td>\n",
       "      <td>17599</td>\n",
       "    </tr>\n",
       "    <tr>\n",
       "      <th>2</th>\n",
       "      <td>popup_QQ</td>\n",
       "      <td>11477</td>\n",
       "    </tr>\n",
       "    <tr>\n",
       "      <th>3</th>\n",
       "      <td>iexplore</td>\n",
       "      <td>9526</td>\n",
       "    </tr>\n",
       "    <tr>\n",
       "      <th>4</th>\n",
       "      <td>360se</td>\n",
       "      <td>7800</td>\n",
       "    </tr>\n",
       "  </tbody>\n",
       "</table>\n",
       "</div>"
      ],
      "text/plain": [
       "          a  count\n",
       "0  explorer  21244\n",
       "1        QQ  17599\n",
       "2  popup_QQ  11477\n",
       "3  iexplore   9526\n",
       "4     360se   7800"
      ]
     },
     "execution_count": 34,
     "metadata": {},
     "output_type": "execute_result"
    }
   ],
   "source": [
    "category.head()"
   ]
  },
  {
   "cell_type": "code",
   "execution_count": 58,
   "metadata": {
    "ExecuteTime": {
     "end_time": "2020-04-08T03:33:46.711179Z",
     "start_time": "2020-04-08T03:33:46.705308Z"
    },
    "hidden": true
   },
   "outputs": [],
   "source": [
    "def most_similar(x,n):\n",
    "    a=[]\n",
    "    for i in category['a'].values:\n",
    "        a.append([i,projection(normalize(model_dm[x]),normalize(model_dm[i]))])\n",
    "    a.sort(key=lambda x: x[1], reverse=True)\n",
    "    return a[:n]  "
   ]
  },
  {
   "cell_type": "code",
   "execution_count": 59,
   "metadata": {
    "ExecuteTime": {
     "end_time": "2020-04-08T03:33:48.400214Z",
     "start_time": "2020-04-08T03:33:47.553740Z"
    },
    "hidden": true
   },
   "outputs": [
    {
     "name": "stdout",
     "output_type": "stream",
     "text": [
      "0\n"
     ]
    }
   ],
   "source": [
    "embedding_clusters_gif = []\n",
    "word_clusters_gif = []\n",
    "for word in [0]:\n",
    "    print(word)\n",
    "    embeddings = []\n",
    "    words = []\n",
    "    for similar_word, _ in most_similar(word, 20):\n",
    "        words.append(similar_word)\n",
    "        embeddings.append(model_dm[similar_word])\n",
    "    embedding_clusters_gif.append(embeddings)\n",
    "    word_clusters_gif.append(words)"
   ]
  },
  {
   "cell_type": "code",
   "execution_count": null,
   "metadata": {
    "hidden": true
   },
   "outputs": [],
   "source": []
  },
  {
   "cell_type": "markdown",
   "metadata": {
    "heading_collapsed": true
   },
   "source": [
    "#### random"
   ]
  },
  {
   "cell_type": "code",
   "execution_count": 96,
   "metadata": {
    "ExecuteTime": {
     "end_time": "2020-06-27T14:20:02.568941Z",
     "start_time": "2020-06-27T14:20:02.560293Z"
    },
    "hidden": true
   },
   "outputs": [],
   "source": [
    "def normalize(v):\n",
    "    norm = np.linalg.norm(v)\n",
    "    if norm == 0:\n",
    "        return v\n",
    "    return v / norm\n",
    "\n",
    "def projection(one, two):\n",
    "    # cosine similarity\n",
    "    return (1 - spatial.distance.cosine(one, two))\n",
    "\n",
    "def cosine2angle(i):\n",
    "    return np.arccos(i) / np.pi * 180 #长度换角度"
   ]
  },
  {
   "cell_type": "code",
   "execution_count": 97,
   "metadata": {
    "ExecuteTime": {
     "end_time": "2020-06-27T14:20:03.057548Z",
     "start_time": "2020-06-27T14:20:03.054609Z"
    },
    "hidden": true
   },
   "outputs": [],
   "source": [
    "TaggededDocument = gensim.models.doc2vec.TaggedDocument"
   ]
  },
  {
   "cell_type": "code",
   "execution_count": 98,
   "metadata": {
    "ExecuteTime": {
     "end_time": "2020-06-27T14:20:04.057826Z",
     "start_time": "2020-06-27T14:20:03.876744Z"
    },
    "hidden": true
   },
   "outputs": [],
   "source": [
    "category=pd.read_csv('./combine.csv',names=['exe','low','category'])\n",
    "diction=dict(category[['low','category']].values)"
   ]
  },
  {
   "cell_type": "code",
   "execution_count": 99,
   "metadata": {
    "ExecuteTime": {
     "end_time": "2020-06-27T14:28:48.794626Z",
     "start_time": "2020-06-27T14:20:07.912622Z"
    },
    "hidden": true
   },
   "outputs": [
    {
     "name": "stdout",
     "output_type": "stream",
     "text": [
      "979"
     ]
    }
   ],
   "source": [
    "files=glob('./CNNIC_Clickstream1000_Data/data/users/*.csv')\n",
    "node=pd.DataFrame()\n",
    "for i,f in enumerate(files):\n",
    "    flushPrint(i)\n",
    "    data=pd.read_csv(f,names=['exe','http'])\n",
    "    data['final']=data.apply(lambda x: x['exe'] if type(x.http)==float else x.http, axis=1)\n",
    "    data['final']=data['final'].apply(lambda x: x.replace('http://','').replace('https://','').split('/')[0] if type(x)==str else x)\n",
    "    data['low']=data['final'].apply(lambda x: x.lower() if type(x)== str else x)\n",
    "    data['low1']=data['low'].apply(lambda x: re.sub('.exe','',x) if type(x)== str else x)\n",
    "    data['category']=data['low1'].apply(lambda x: diction[x] if x in diction else np.nan)\n",
    "    data['category']=data['category'].fillna(19.0)\n",
    "    data['user']=f.split('/')[-1].split('.')[0]\n",
    "    cate=data[np.isnan(data['category'])==False]\n",
    "    node=node.append(cate[['user','low1','category']])"
   ]
  },
  {
   "cell_type": "code",
   "execution_count": 100,
   "metadata": {
    "ExecuteTime": {
     "end_time": "2020-06-27T14:32:57.921157Z",
     "start_time": "2020-06-27T14:32:51.655376Z"
    },
    "hidden": true
   },
   "outputs": [],
   "source": [
    "low=np.random.permutation(node[['low1','category']])"
   ]
  },
  {
   "cell_type": "code",
   "execution_count": 101,
   "metadata": {
    "ExecuteTime": {
     "end_time": "2020-06-27T14:33:09.864607Z",
     "start_time": "2020-06-27T14:32:57.923310Z"
    },
    "hidden": true
   },
   "outputs": [],
   "source": [
    "node['low2']=[i[0] for i in low]\n",
    "node['category2']=[i[1] for i in low]"
   ]
  },
  {
   "cell_type": "code",
   "execution_count": 102,
   "metadata": {
    "ExecuteTime": {
     "end_time": "2020-06-27T14:33:49.638861Z",
     "start_time": "2020-06-27T14:33:09.867498Z"
    },
    "hidden": true
   },
   "outputs": [],
   "source": [
    "node.to_csv('random_node.csv',index=False)"
   ]
  },
  {
   "cell_type": "code",
   "execution_count": 95,
   "metadata": {
    "ExecuteTime": {
     "end_time": "2020-06-27T14:19:55.809314Z",
     "start_time": "2020-06-27T14:19:55.806508Z"
    },
    "hidden": true
   },
   "outputs": [],
   "source": [
    "# node=pd.read_csv('random_node.csv')"
   ]
  },
  {
   "cell_type": "code",
   "execution_count": 113,
   "metadata": {
    "ExecuteTime": {
     "end_time": "2020-06-27T15:00:59.656883Z",
     "start_time": "2020-06-27T14:51:54.887403Z"
    },
    "hidden": true
   },
   "outputs": [
    {
     "name": "stdout",
     "output_type": "stream",
     "text": [
      "979"
     ]
    }
   ],
   "source": [
    "x_train=[]\n",
    "for i,e in enumerate(list(set(node['user'].values))):\n",
    "    flushPrint(i)\n",
    "    data=node[node['user']==e]\n",
    "    doc=list(data['low2'].values)\n",
    "    doc_type=list(data['category2'].values)\n",
    "    word_list=[]\n",
    "    for j in range(len(doc)-1):\n",
    "        try:\n",
    "            if doc[j]!=doc[j+1]:\n",
    "                word_list.extend([str(doc_type[j]),str(doc[j])])\n",
    "        except:\n",
    "            pass\n",
    "    document = TaggededDocument(word_list, tags=[e])\n",
    "    x_train.append(document)"
   ]
  },
  {
   "cell_type": "code",
   "execution_count": 114,
   "metadata": {
    "ExecuteTime": {
     "end_time": "2020-06-27T15:02:26.501801Z",
     "start_time": "2020-06-27T15:02:26.495943Z"
    },
    "hidden": true
   },
   "outputs": [],
   "source": [
    "def train(x_train, size=300, epoch_num=1):\n",
    "    model_dm = Doc2Vec(x_train, size = size, dbow_words=1, min_count=1)\n",
    "    model_dm.train(x_train, total_examples=model_dm.corpus_count, epochs=70)\n",
    "    model_dm.save('doc2vec1_random')\n",
    "    return model_dm"
   ]
  },
  {
   "cell_type": "code",
   "execution_count": 115,
   "metadata": {
    "ExecuteTime": {
     "end_time": "2020-06-27T15:12:06.084217Z",
     "start_time": "2020-06-27T15:02:27.305519Z"
    },
    "hidden": true
   },
   "outputs": [
    {
     "name": "stderr",
     "output_type": "stream",
     "text": [
      "/Users/xuhuimin/anaconda3/lib/python3.6/site-packages/gensim/models/doc2vec.py:366: UserWarning: The parameter `size` is deprecated, will be removed in 4.0.0, use `vector_size` instead.\n",
      "  warnings.warn(\"The parameter `size` is deprecated, will be removed in 4.0.0, use `vector_size` instead.\")\n"
     ]
    }
   ],
   "source": [
    "model_dm=train(x_train)"
   ]
  },
  {
   "cell_type": "code",
   "execution_count": 111,
   "metadata": {
    "ExecuteTime": {
     "end_time": "2020-06-27T14:47:57.445394Z",
     "start_time": "2020-06-27T14:47:56.055947Z"
    },
    "hidden": true
   },
   "outputs": [],
   "source": [
    "# model_dm=Doc2Vec.load('doc2vec1_random')"
   ]
  },
  {
   "cell_type": "code",
   "execution_count": 118,
   "metadata": {
    "ExecuteTime": {
     "end_time": "2020-06-27T15:25:43.671879Z",
     "start_time": "2020-06-27T15:14:25.551149Z"
    },
    "hidden": true
   },
   "outputs": [
    {
     "name": "stdout",
     "output_type": "stream",
     "text": [
      "979"
     ]
    }
   ],
   "source": [
    "radius=[]\n",
    "for j in range(len(x_train)):\n",
    "    flushPrint(j)\n",
    "    try:\n",
    "        c1=[]\n",
    "        for i in range((len(x_train[j].words)+1)//2):\n",
    "            c=(-projection(normalize(model_dm.docvecs[x_train[j].tags[0]]),normalize(model_dm[x_train[j].words[2*i+1]]))+1)/2\n",
    "            c1.append(c)\n",
    "        c2=np.sqrt(np.sum([i**2/len(c1) for i in c1]))\n",
    "        c3=max(c1)-min(c1)\n",
    "        radius.append([c3,c2,x_train[j].tags[0]])\n",
    "    except:\n",
    "        radius.append([np.nan,x_train[j].tags[0]])\n",
    "        pass"
   ]
  },
  {
   "cell_type": "code",
   "execution_count": 119,
   "metadata": {
    "ExecuteTime": {
     "end_time": "2020-06-27T15:25:49.812277Z",
     "start_time": "2020-06-27T15:25:49.793417Z"
    },
    "hidden": true
   },
   "outputs": [],
   "source": [
    "d=pd.DataFrame(radius)\n",
    "d.to_csv('./rg_random.csv')"
   ]
  },
  {
   "cell_type": "markdown",
   "metadata": {},
   "source": [
    "#### regression-class"
   ]
  },
  {
   "cell_type": "code",
   "execution_count": 130,
   "metadata": {
    "ExecuteTime": {
     "end_time": "2020-06-27T15:29:59.749248Z",
     "start_time": "2020-06-27T15:29:59.744169Z"
    }
   },
   "outputs": [],
   "source": [
    "# diction=dict(d[[2,1]].values)"
   ]
  },
  {
   "cell_type": "code",
   "execution_count": 10,
   "metadata": {
    "ExecuteTime": {
     "end_time": "2020-07-06T04:39:08.484540Z",
     "start_time": "2020-07-06T04:39:07.839607Z"
    }
   },
   "outputs": [],
   "source": [
    "data=pd.read_csv('./data_sum.csv')"
   ]
  },
  {
   "cell_type": "code",
   "execution_count": 9,
   "metadata": {
    "ExecuteTime": {
     "end_time": "2020-07-06T04:38:15.827233Z",
     "start_time": "2020-07-06T04:38:15.824510Z"
    }
   },
   "outputs": [],
   "source": [
    "# data['random']=data['USERID'].apply(lambda x: diction[x])"
   ]
  },
  {
   "cell_type": "code",
   "execution_count": 11,
   "metadata": {
    "ExecuteTime": {
     "end_time": "2020-07-06T04:39:11.018100Z",
     "start_time": "2020-07-06T04:39:11.008291Z"
    }
   },
   "outputs": [],
   "source": [
    "def maxmin(x):\n",
    "    try:\n",
    "        new_names=[ '1.0','2.0','3.0','4.0', '5.0', '6.0', '7.0', '8.0', '9.0', '10.0', '11.0', '12.0', '13.0', '14.0','15.0','16.0'\n",
    "              '17.0', '18.0', '19.0']\n",
    "        a=[]\n",
    "        for i in new_names:\n",
    "            if x[i]!=1:\n",
    "                a.extend(x[i])\n",
    "        return np.max(a)-np.min(a)\n",
    "    except:\n",
    "        return np.nan"
   ]
  },
  {
   "cell_type": "code",
   "execution_count": 12,
   "metadata": {
    "ExecuteTime": {
     "end_time": "2020-07-06T04:39:11.482540Z",
     "start_time": "2020-07-06T04:39:11.472222Z"
    }
   },
   "outputs": [],
   "source": [
    "def radius(x):\n",
    "    try:\n",
    "        new_names=[ '1.0','2.0','3.0','4.0', '5.0', '6.0', '7.0', '8.0', '9.0', '10.0', '11.0', '12.0', '13.0', '14.0','15.0','16.0'\n",
    "              '17.0', '18.0', '19.0']\n",
    "        a=[]\n",
    "        for i in new_names:\n",
    "            if x[i]!=1:\n",
    "                a.extend(x[i])\n",
    "        return np.sqrt(np.sum([i**2/len(a) for i in a]))\n",
    "    except:\n",
    "        return np.nan"
   ]
  },
  {
   "cell_type": "code",
   "execution_count": 13,
   "metadata": {
    "ExecuteTime": {
     "end_time": "2020-07-06T04:39:17.215576Z",
     "start_time": "2020-07-06T04:39:12.542990Z"
    }
   },
   "outputs": [],
   "source": [
    "data['maxmin']=data['raw'].apply(lambda x: maxmin(eval(x)))"
   ]
  },
  {
   "cell_type": "code",
   "execution_count": 14,
   "metadata": {
    "ExecuteTime": {
     "end_time": "2020-07-06T04:39:22.570551Z",
     "start_time": "2020-07-06T04:39:17.217312Z"
    }
   },
   "outputs": [],
   "source": [
    "data['radius']=data['raw'].apply(lambda x: radius(eval(x)))"
   ]
  },
  {
   "cell_type": "code",
   "execution_count": 15,
   "metadata": {
    "ExecuteTime": {
     "end_time": "2020-07-06T04:39:22.579660Z",
     "start_time": "2020-07-06T04:39:22.572428Z"
    }
   },
   "outputs": [],
   "source": [
    "def maxmin_nonent(x):\n",
    "    try:\n",
    "        new_names=[ '4.0', '5.0', '6.0', '7.0', '8.0', '9.0', '10.0', '11.0', '12.0', '13.0', '14.0','15.0','16.0'\n",
    "              '17.0', '18.0', '19.0']\n",
    "        a=[]\n",
    "        for i in new_names:\n",
    "            if x[i]!=1:\n",
    "                a.extend(x[i])\n",
    "        return np.max(a)-np.min(a)\n",
    "    except:\n",
    "        return np.nan"
   ]
  },
  {
   "cell_type": "code",
   "execution_count": 16,
   "metadata": {
    "ExecuteTime": {
     "end_time": "2020-07-06T04:39:27.403798Z",
     "start_time": "2020-07-06T04:39:22.581929Z"
    }
   },
   "outputs": [],
   "source": [
    "data['maxmin_nonent']=data['raw'].apply(lambda x: maxmin_nonent(eval(x)))"
   ]
  },
  {
   "cell_type": "code",
   "execution_count": 65,
   "metadata": {
    "ExecuteTime": {
     "end_time": "2020-07-07T14:40:48.209989Z",
     "start_time": "2020-07-07T14:40:48.202183Z"
    }
   },
   "outputs": [
    {
     "data": {
      "text/plain": [
       "count    919.000000\n",
       "mean       0.542138\n",
       "std        0.273897\n",
       "min        0.000000\n",
       "25%        0.344235\n",
       "50%        0.552297\n",
       "75%        0.755057\n",
       "max        1.000000\n",
       "Name: game_min, dtype: float64"
      ]
     },
     "execution_count": 65,
     "metadata": {},
     "output_type": "execute_result"
    }
   ],
   "source": [
    "data['game_min'].describe()"
   ]
  },
  {
   "cell_type": "code",
   "execution_count": 66,
   "metadata": {
    "ExecuteTime": {
     "end_time": "2020-07-07T14:59:31.609515Z",
     "start_time": "2020-07-07T14:59:31.596098Z"
    }
   },
   "outputs": [
    {
     "data": {
      "text/plain": [
       "count    979.000000\n",
       "mean       9.814096\n",
       "std        2.668487\n",
       "min        1.000000\n",
       "25%        8.000000\n",
       "50%       10.000000\n",
       "75%       12.000000\n",
       "max       15.000000\n",
       "Name: type_num, dtype: float64"
      ]
     },
     "execution_count": 66,
     "metadata": {},
     "output_type": "execute_result"
    }
   ],
   "source": [
    "data['type_num'].describe()"
   ]
  },
  {
   "cell_type": "code",
   "execution_count": 64,
   "metadata": {
    "ExecuteTime": {
     "end_time": "2020-07-07T14:40:36.320532Z",
     "start_time": "2020-07-07T14:40:36.312385Z"
    }
   },
   "outputs": [
    {
     "data": {
      "text/plain": [
       "count    978.000000\n",
       "mean       0.179838\n",
       "std        0.070748\n",
       "min        0.000000\n",
       "25%        0.130880\n",
       "50%        0.179050\n",
       "75%        0.227880\n",
       "max        0.448892\n",
       "Name: maxmin_nonent, dtype: float64"
      ]
     },
     "execution_count": 64,
     "metadata": {},
     "output_type": "execute_result"
    }
   ],
   "source": [
    "data['maxmin_nonent'].describe()"
   ]
  },
  {
   "cell_type": "code",
   "execution_count": 67,
   "metadata": {
    "ExecuteTime": {
     "end_time": "2020-07-07T15:02:34.867445Z",
     "start_time": "2020-07-07T15:02:34.859349Z"
    }
   },
   "outputs": [
    {
     "data": {
      "text/plain": [
       "count    979.000000\n",
       "mean       0.046806\n",
       "std        0.065825\n",
       "min        0.000000\n",
       "25%        0.008590\n",
       "50%        0.028607\n",
       "75%        0.059918\n",
       "max        0.736654\n",
       "Name: entertainment_ratio, dtype: float64"
      ]
     },
     "execution_count": 67,
     "metadata": {},
     "output_type": "execute_result"
    }
   ],
   "source": [
    "data['entertainment_ratio'].describe()"
   ]
  },
  {
   "cell_type": "code",
   "execution_count": 68,
   "metadata": {
    "ExecuteTime": {
     "end_time": "2020-07-07T15:31:55.357228Z",
     "start_time": "2020-07-07T15:31:55.352981Z"
    }
   },
   "outputs": [
    {
     "data": {
      "text/plain": [
       "979"
      ]
     },
     "execution_count": 68,
     "metadata": {},
     "output_type": "execute_result"
    }
   ],
   "source": [
    "len(data)"
   ]
  },
  {
   "cell_type": "code",
   "execution_count": 17,
   "metadata": {
    "ExecuteTime": {
     "end_time": "2020-07-06T04:39:27.414640Z",
     "start_time": "2020-07-06T04:39:27.405780Z"
    }
   },
   "outputs": [],
   "source": [
    "def radius_nonent(x):\n",
    "#     try:\n",
    "        new_names=[ '4.0', '5.0', '6.0', '7.0', '8.0', '9.0', '10.0', '11.0', '12.0', '13.0', '14.0','15.0','16.0'\n",
    "              '17.0', '18.0', '19.0']\n",
    "        a=[]\n",
    "        for i in new_names:\n",
    "            if x[i]!=1:\n",
    "                a.extend(x[i])\n",
    "        return np.sqrt(np.sum([i**2/len(a) for i in a]))\n",
    "#     except:\n",
    "#         return np.nan"
   ]
  },
  {
   "cell_type": "code",
   "execution_count": 18,
   "metadata": {
    "ExecuteTime": {
     "end_time": "2020-07-06T04:39:32.144584Z",
     "start_time": "2020-07-06T04:39:27.417071Z"
    }
   },
   "outputs": [],
   "source": [
    "data['radius_nonent']=data['raw'].apply(lambda x: radius_nonent(eval(x)))"
   ]
  },
  {
   "cell_type": "code",
   "execution_count": 19,
   "metadata": {
    "ExecuteTime": {
     "end_time": "2020-07-06T04:39:32.152895Z",
     "start_time": "2020-07-06T04:39:32.146387Z"
    }
   },
   "outputs": [],
   "source": [
    "def game_min(x):\n",
    "    try:\n",
    "        new_names=['1.0','2.0','3.0']\n",
    "        a=[]\n",
    "        for i in new_names:\n",
    "            if x[i]!=1:\n",
    "                a.extend(x[i])\n",
    "        return np.max(a)-np.min(a)\n",
    "    except:\n",
    "        np.nan"
   ]
  },
  {
   "cell_type": "code",
   "execution_count": 20,
   "metadata": {
    "ExecuteTime": {
     "end_time": "2020-07-06T04:39:36.480074Z",
     "start_time": "2020-07-06T04:39:32.154806Z"
    }
   },
   "outputs": [],
   "source": [
    "data['game_min']=data['raw'].apply(lambda x: game_min(eval(x)))"
   ]
  },
  {
   "cell_type": "code",
   "execution_count": 21,
   "metadata": {
    "ExecuteTime": {
     "end_time": "2020-07-06T04:39:36.547071Z",
     "start_time": "2020-07-06T04:39:36.481721Z"
    }
   },
   "outputs": [],
   "source": [
    "data['game_min']=data['game_min']/data['maxmin']"
   ]
  },
  {
   "cell_type": "code",
   "execution_count": 22,
   "metadata": {
    "ExecuteTime": {
     "end_time": "2020-07-06T04:39:36.553905Z",
     "start_time": "2020-07-06T04:39:36.549274Z"
    }
   },
   "outputs": [],
   "source": [
    "data['game_min_p']=data['game_min'].rank(pct=True,method='first')"
   ]
  },
  {
   "cell_type": "code",
   "execution_count": 23,
   "metadata": {
    "ExecuteTime": {
     "end_time": "2020-07-06T04:39:36.562900Z",
     "start_time": "2020-07-06T04:39:36.555740Z"
    }
   },
   "outputs": [],
   "source": [
    "def entertainment_rank(x):\n",
    "    if x<=0.25:\n",
    "        return 1\n",
    "    if 0.25<x<=0.5:\n",
    "        return 2\n",
    "    if 0.5<x<=0.75:\n",
    "        return 3\n",
    "    if 0.75<x<=1:\n",
    "        return 4\n",
    "    if np.isnan(x)==True:\n",
    "        return 5"
   ]
  },
  {
   "cell_type": "code",
   "execution_count": 24,
   "metadata": {
    "ExecuteTime": {
     "end_time": "2020-07-06T04:39:36.571627Z",
     "start_time": "2020-07-06T04:39:36.565065Z"
    }
   },
   "outputs": [],
   "source": [
    "data['game_min_rank']=data['game_min_p'].apply(lambda x: entertainment_rank(x))"
   ]
  },
  {
   "cell_type": "code",
   "execution_count": 147,
   "metadata": {
    "ExecuteTime": {
     "end_time": "2020-06-27T15:32:02.695753Z",
     "start_time": "2020-06-27T15:32:02.692623Z"
    }
   },
   "outputs": [],
   "source": [
    "# data['game_min']=data.apply(lambda x: np.min([eval(x['min_has'])['1.0'],eval(x['min_has'])['2.0'],eval(x['min_has'])['3.0']])\n",
    "#                            if np.min([eval(x['min_has'])['1.0'],eval(x['min_has'])['2.0'],eval(x['min_has'])['3.0']])!=1\n",
    "#                            else np.nan,axis=1)"
   ]
  },
  {
   "cell_type": "code",
   "execution_count": 148,
   "metadata": {
    "ExecuteTime": {
     "end_time": "2020-06-27T15:32:02.700860Z",
     "start_time": "2020-06-27T15:32:02.697812Z"
    }
   },
   "outputs": [],
   "source": [
    "# freq=freq[:379]+freq[380:]\n",
    "# data['freq']=freq"
   ]
  },
  {
   "cell_type": "code",
   "execution_count": 149,
   "metadata": {
    "ExecuteTime": {
     "end_time": "2020-06-27T15:32:02.707559Z",
     "start_time": "2020-06-27T15:32:02.704149Z"
    }
   },
   "outputs": [],
   "source": [
    "# data=pd.merge(info,demo,on=['USERID'])"
   ]
  },
  {
   "cell_type": "code",
   "execution_count": 25,
   "metadata": {
    "ExecuteTime": {
     "end_time": "2020-07-06T04:39:40.664234Z",
     "start_time": "2020-07-06T04:39:39.971310Z"
    }
   },
   "outputs": [],
   "source": [
    "for i in range(1,20):\n",
    "    data['freq'+str(i)]=data['freq'].apply(lambda x: eval(x)[i] if i in eval(x) else 0)"
   ]
  },
  {
   "cell_type": "code",
   "execution_count": 26,
   "metadata": {
    "ExecuteTime": {
     "end_time": "2020-07-06T04:39:40.696294Z",
     "start_time": "2020-07-06T04:39:40.666890Z"
    }
   },
   "outputs": [],
   "source": [
    "data['type_num']=data['freq'].apply(lambda x: len(eval(x)))"
   ]
  },
  {
   "cell_type": "code",
   "execution_count": 27,
   "metadata": {
    "ExecuteTime": {
     "end_time": "2020-07-06T04:39:41.479905Z",
     "start_time": "2020-07-06T04:39:41.443713Z"
    }
   },
   "outputs": [],
   "source": [
    "data['type_num_nonent']=data['freq'].apply(lambda x: len([i for i in eval(x) if i not in [1,2,3]]))"
   ]
  },
  {
   "cell_type": "code",
   "execution_count": 28,
   "metadata": {
    "ExecuteTime": {
     "end_time": "2020-07-06T04:39:42.072460Z",
     "start_time": "2020-07-06T04:39:42.018954Z"
    }
   },
   "outputs": [],
   "source": [
    "data['all_freq']=data['freq'].apply(lambda x: np.sum([i for i in (eval(x)).values()]))"
   ]
  },
  {
   "cell_type": "code",
   "execution_count": 29,
   "metadata": {
    "ExecuteTime": {
     "end_time": "2020-07-06T04:39:42.597858Z",
     "start_time": "2020-07-06T04:39:42.595093Z"
    },
    "code_folding": []
   },
   "outputs": [],
   "source": [
    "# for i in range(1,15):\n",
    "#     data['freq'+str(i)]=data.apply(lambda x: x['freq'+str(i)]/x['all_freq'] if x['all_freq']!=0 else 0,axis=1)"
   ]
  },
  {
   "cell_type": "code",
   "execution_count": 30,
   "metadata": {
    "ExecuteTime": {
     "end_time": "2020-07-06T04:39:43.128128Z",
     "start_time": "2020-07-06T04:39:43.124054Z"
    }
   },
   "outputs": [],
   "source": [
    "data['entertainment_freq']=data['freq1']+data['freq2']+data['freq3']"
   ]
  },
  {
   "cell_type": "code",
   "execution_count": 31,
   "metadata": {
    "ExecuteTime": {
     "end_time": "2020-07-06T04:39:43.670594Z",
     "start_time": "2020-07-06T04:39:43.666766Z"
    }
   },
   "outputs": [],
   "source": [
    "data['entertainment_ratio']=(data['freq1']+data['freq2']+data['freq3'])/data['all_freq']"
   ]
  },
  {
   "cell_type": "code",
   "execution_count": 33,
   "metadata": {
    "ExecuteTime": {
     "end_time": "2020-07-06T04:39:47.886016Z",
     "start_time": "2020-07-06T04:39:47.883292Z"
    }
   },
   "outputs": [],
   "source": [
    "# data['obs_exp']=data['radius']-data['random']"
   ]
  },
  {
   "cell_type": "code",
   "execution_count": 34,
   "metadata": {
    "ExecuteTime": {
     "end_time": "2020-07-06T04:39:50.115920Z",
     "start_time": "2020-07-06T04:39:49.686947Z"
    }
   },
   "outputs": [
    {
     "data": {
      "image/png": "[encoded data removed]",
      "text/plain": [
       "<Figure size 432x288 with 1 Axes>"
      ]
     },
     "metadata": {},
     "output_type": "display_data"
    },
    {
     "data": {
      "image/png": "[encoded data removed]",
      "text/plain": [
       "<Figure size 432x288 with 1 Axes>"
      ]
     },
     "metadata": {},
     "output_type": "display_data"
    }
   ],
   "source": [
    "plt.bar(Counter(data['type_num'].values).keys(),Counter(data['type_num'].values).values())\n",
    "plt.title('type_num')\n",
    "plt.show()\n",
    "plt.bar(Counter(data['type_num_nonent'].values).keys(),Counter(data['type_num_nonent'].values).values())\n",
    "plt.title('type_num_nonent')\n",
    "plt.show()"
   ]
  },
  {
   "cell_type": "markdown",
   "metadata": {},
   "source": [
    "##### ground truth"
   ]
  },
  {
   "cell_type": "code",
   "execution_count": 62,
   "metadata": {
    "ExecuteTime": {
     "end_time": "2020-07-06T04:45:56.347363Z",
     "start_time": "2020-07-06T04:45:56.335257Z"
    }
   },
   "outputs": [
    {
     "data": {
      "text/html": [
       "<div>\n",
       "<style scoped>\n",
       "    .dataframe tbody tr th:only-of-type {\n",
       "        vertical-align: middle;\n",
       "    }\n",
       "\n",
       "    .dataframe tbody tr th {\n",
       "        vertical-align: top;\n",
       "    }\n",
       "\n",
       "    .dataframe thead th {\n",
       "        text-align: right;\n",
       "    }\n",
       "</style>\n",
       "<table border=\"1\" class=\"dataframe\">\n",
       "  <thead>\n",
       "    <tr style=\"text-align: right;\">\n",
       "      <th></th>\n",
       "      <th>maxmin_nonent</th>\n",
       "      <th>radius</th>\n",
       "      <th>game_min_rank</th>\n",
       "      <th>type_num_nonent</th>\n",
       "      <th>entertainment_ratio</th>\n",
       "    </tr>\n",
       "  </thead>\n",
       "  <tbody>\n",
       "    <tr>\n",
       "      <th>maxmin_nonent</th>\n",
       "      <td>1.000000</td>\n",
       "      <td>0.081031</td>\n",
       "      <td>-0.325941</td>\n",
       "      <td>0.622102</td>\n",
       "      <td>-0.083823</td>\n",
       "    </tr>\n",
       "    <tr>\n",
       "      <th>radius</th>\n",
       "      <td>0.081031</td>\n",
       "      <td>1.000000</td>\n",
       "      <td>0.010001</td>\n",
       "      <td>0.381051</td>\n",
       "      <td>-0.001399</td>\n",
       "    </tr>\n",
       "    <tr>\n",
       "      <th>game_min_rank</th>\n",
       "      <td>-0.325941</td>\n",
       "      <td>0.010001</td>\n",
       "      <td>1.000000</td>\n",
       "      <td>-0.153091</td>\n",
       "      <td>0.132621</td>\n",
       "    </tr>\n",
       "    <tr>\n",
       "      <th>type_num_nonent</th>\n",
       "      <td>0.622102</td>\n",
       "      <td>0.381051</td>\n",
       "      <td>-0.153091</td>\n",
       "      <td>1.000000</td>\n",
       "      <td>-0.026972</td>\n",
       "    </tr>\n",
       "    <tr>\n",
       "      <th>entertainment_ratio</th>\n",
       "      <td>-0.083823</td>\n",
       "      <td>-0.001399</td>\n",
       "      <td>0.132621</td>\n",
       "      <td>-0.026972</td>\n",
       "      <td>1.000000</td>\n",
       "    </tr>\n",
       "  </tbody>\n",
       "</table>\n",
       "</div>"
      ],
      "text/plain": [
       "                     maxmin_nonent    radius  game_min_rank  type_num_nonent  entertainment_ratio\n",
       "maxmin_nonent             1.000000  0.081031      -0.325941         0.622102            -0.083823\n",
       "radius                    0.081031  1.000000       0.010001         0.381051            -0.001399\n",
       "game_min_rank            -0.325941  0.010001       1.000000        -0.153091             0.132621\n",
       "type_num_nonent           0.622102  0.381051      -0.153091         1.000000            -0.026972\n",
       "entertainment_ratio      -0.083823 -0.001399       0.132621        -0.026972             1.000000"
      ]
     },
     "execution_count": 62,
     "metadata": {},
     "output_type": "execute_result"
    }
   ],
   "source": [
    "data[['maxmin_nonent','radius','game_min_rank','type_num_nonent','entertainment_ratio']].corr()"
   ]
  },
  {
   "cell_type": "markdown",
   "metadata": {},
   "source": [
    "##### maxmin"
   ]
  },
  {
   "cell_type": "code",
   "execution_count": 36,
   "metadata": {
    "ExecuteTime": {
     "end_time": "2020-07-06T04:40:10.786277Z",
     "start_time": "2020-07-06T04:40:10.778940Z"
    }
   },
   "outputs": [],
   "source": [
    "data['radius_p']=data['radius'].rank(pct=True,method='first')\n",
    "data['maxmin_p']=data['maxmin'].rank(pct=True,method='first')\n",
    "data['maxmin_nonent_p']=data['maxmin_nonent'].rank(pct=True,method='first')\n",
    "data['radius_nonent_p']=data['radius_nonent'].rank(pct=True,method='first')"
   ]
  },
  {
   "cell_type": "code",
   "execution_count": 51,
   "metadata": {
    "ExecuteTime": {
     "end_time": "2020-07-06T04:42:56.866190Z",
     "start_time": "2020-07-06T04:42:56.284271Z"
    }
   },
   "outputs": [
    {
     "data": {
      "image/png": "[encoded data removed]",
      "text/plain": [
       "<Figure size 432x288 with 1 Axes>"
      ]
     },
     "metadata": {},
     "output_type": "display_data"
    },
    {
     "name": "stderr",
     "output_type": "stream",
     "text": [
      "/Users/xuhuimin/anaconda3/lib/python3.6/site-packages/numpy/lib/histograms.py:754: RuntimeWarning: invalid value encountered in greater_equal\n",
      "  keep = (tmp_a >= first_edge)\n",
      "/Users/xuhuimin/anaconda3/lib/python3.6/site-packages/numpy/lib/histograms.py:755: RuntimeWarning: invalid value encountered in less_equal\n",
      "  keep &= (tmp_a <= last_edge)\n"
     ]
    },
    {
     "data": {
      "image/png": "[encoded data removed]",
      "text/plain": [
       "<Figure size 432x288 with 1 Axes>"
      ]
     },
     "metadata": {},
     "output_type": "display_data"
    }
   ],
   "source": [
    "plt.hist(data['radius'],bins=100)\n",
    "plt.show()\n",
    "plt.hist(data['maxmin'],bins=100)\n",
    "plt.show()"
   ]
  },
  {
   "cell_type": "code",
   "execution_count": 39,
   "metadata": {
    "ExecuteTime": {
     "end_time": "2020-07-06T04:40:29.594416Z",
     "start_time": "2020-07-06T04:40:28.942587Z"
    }
   },
   "outputs": [
    {
     "name": "stderr",
     "output_type": "stream",
     "text": [
      "/Users/xuhuimin/anaconda3/lib/python3.6/site-packages/scipy/stats/stats.py:1713: FutureWarning: Using a non-tuple sequence for multidimensional indexing is deprecated; use `arr[tuple(seq)]` instead of `arr[seq]`. In the future this will be interpreted as an array index, `arr[np.array(seq)]`, which will result either in an error or a different result.\n",
      "  return np.add.reduce(sorted[indexer] * weights, axis=axis) / sumval\n"
     ]
    },
    {
     "data": {
      "image/png": "[encoded data removed]",
      "text/plain": [
       "<Figure size 432x288 with 1 Axes>"
      ]
     },
     "metadata": {},
     "output_type": "display_data"
    },
    {
     "data": {
      "image/png": "[encoded data removed]",
      "text/plain": [
       "<Figure size 432x288 with 1 Axes>"
      ]
     },
     "metadata": {},
     "output_type": "display_data"
    }
   ],
   "source": [
    "sns.pointplot(x=\"edu\",y=\"maxmin_nonent\",data=data,color='blue')\n",
    "plt.show()\n",
    "sns.pointplot(x=\"job\",y=\"maxmin_nonent\",data=data,color='blue')\n",
    "plt.show()"
   ]
  },
  {
   "cell_type": "code",
   "execution_count": 40,
   "metadata": {
    "ExecuteTime": {
     "end_time": "2020-07-06T04:40:44.607774Z",
     "start_time": "2020-07-06T04:40:44.600189Z"
    }
   },
   "outputs": [],
   "source": [
    "job = {'学生':np.nan,'其他':np.nan,'退休':np.nan, \n",
    "       '无业、下岗、失业':1,\n",
    "        '农民':2,\n",
    "        '农村外出务工人员':2, \n",
    "        '产业、服务业工人':3,\n",
    "        '个体户/自由职业者':3,\n",
    "        '企业/公司一般职员':4,'党政机关事业单位一般职员':4,\n",
    "        '专业技术人员':4,\n",
    "        '企业/公司管理者':5,\n",
    "        '党政机关事业单位工作者':5, '党政机关事业单位领导干部':5}\n",
    "data['job1'] = [job[i] for i in data['JOB']]"
   ]
  },
  {
   "cell_type": "code",
   "execution_count": 41,
   "metadata": {
    "ExecuteTime": {
     "end_time": "2020-07-06T04:40:45.226815Z",
     "start_time": "2020-07-06T04:40:45.221666Z"
    }
   },
   "outputs": [],
   "source": [
    "edu = {1:1,2:1,3:2,4:2,5:2,6:3}\n",
    "data['edu1'] = [edu[i] for i in data['edu']]"
   ]
  },
  {
   "cell_type": "code",
   "execution_count": 42,
   "metadata": {
    "ExecuteTime": {
     "end_time": "2020-07-06T04:40:45.821392Z",
     "start_time": "2020-07-06T04:40:45.815044Z"
    }
   },
   "outputs": [],
   "source": [
    "inc = {'无收入':1, '500元及以下':1,'501～1000元':1,'1001～1500元':2,\n",
    " '1501～2000元':2,  '2001～3000元':2,'3001～5000元':2,\n",
    " '5001～8000元':3,'8001～12000元':3,   '12000元以上':3}\n",
    "inc = {i: k+1 for k, i in enumerate(inc)}\n",
    "data['income1'] = [inc[i] for i in data['INCOME']]"
   ]
  },
  {
   "cell_type": "code",
   "execution_count": 43,
   "metadata": {
    "ExecuteTime": {
     "end_time": "2020-07-06T04:40:47.057837Z",
     "start_time": "2020-07-06T04:40:47.054064Z"
    }
   },
   "outputs": [],
   "source": [
    "# data.to_csv('./pc.csv',index=False)"
   ]
  },
  {
   "cell_type": "code",
   "execution_count": 44,
   "metadata": {
    "ExecuteTime": {
     "end_time": "2020-07-06T04:40:47.876098Z",
     "start_time": "2020-07-06T04:40:47.872163Z"
    }
   },
   "outputs": [
    {
     "data": {
      "text/plain": [
       "979"
      ]
     },
     "execution_count": 44,
     "metadata": {},
     "output_type": "execute_result"
    }
   ],
   "source": [
    "len(data)"
   ]
  },
  {
   "cell_type": "code",
   "execution_count": 47,
   "metadata": {
    "ExecuteTime": {
     "end_time": "2020-07-06T04:41:37.603126Z",
     "start_time": "2020-07-06T04:41:37.571162Z"
    }
   },
   "outputs": [
    {
     "data": {
      "text/html": [
       "<table class=\"simpletable\">\n",
       "<caption>OLS Regression Results</caption>\n",
       "<tr>\n",
       "  <th>Dep. Variable:</th>        <td>type_num</td>     <th>  R-squared:         </th> <td>   0.046</td>\n",
       "</tr>\n",
       "<tr>\n",
       "  <th>Model:</th>                   <td>OLS</td>       <th>  Adj. R-squared:    </th> <td>   0.039</td>\n",
       "</tr>\n",
       "<tr>\n",
       "  <th>Method:</th>             <td>Least Squares</td>  <th>  F-statistic:       </th> <td>   5.884</td>\n",
       "</tr>\n",
       "<tr>\n",
       "  <th>Date:</th>             <td>Mon, 06 Jul 2020</td> <th>  Prob (F-statistic):</th> <td>5.23e-06</td>\n",
       "</tr>\n",
       "<tr>\n",
       "  <th>Time:</th>                 <td>12:41:37</td>     <th>  Log-Likelihood:    </th> <td> -1750.8</td>\n",
       "</tr>\n",
       "<tr>\n",
       "  <th>No. Observations:</th>      <td>   731</td>      <th>  AIC:               </th> <td>   3516.</td>\n",
       "</tr>\n",
       "<tr>\n",
       "  <th>Df Residuals:</th>          <td>   724</td>      <th>  BIC:               </th> <td>   3548.</td>\n",
       "</tr>\n",
       "<tr>\n",
       "  <th>Df Model:</th>              <td>     6</td>      <th>                     </th>     <td> </td>   \n",
       "</tr>\n",
       "<tr>\n",
       "  <th>Covariance Type:</th>      <td>nonrobust</td>    <th>                     </th>     <td> </td>   \n",
       "</tr>\n",
       "</table>\n",
       "<table class=\"simpletable\">\n",
       "<tr>\n",
       "           <td></td>              <th>coef</th>     <th>std err</th>      <th>t</th>      <th>P>|t|</th>  <th>[0.025</th>    <th>0.975]</th>  \n",
       "</tr>\n",
       "<tr>\n",
       "  <th>Intercept</th>           <td>    8.9750</td> <td>    0.665</td> <td>   13.488</td> <td> 0.000</td> <td>    7.669</td> <td>   10.281</td>\n",
       "</tr>\n",
       "<tr>\n",
       "  <th>job</th>                 <td>    0.1284</td> <td>    0.071</td> <td>    1.800</td> <td> 0.072</td> <td>   -0.012</td> <td>    0.268</td>\n",
       "</tr>\n",
       "<tr>\n",
       "  <th>edu</th>                 <td>    0.2178</td> <td>    0.112</td> <td>    1.951</td> <td> 0.051</td> <td>   -0.001</td> <td>    0.437</td>\n",
       "</tr>\n",
       "<tr>\n",
       "  <th>age</th>                 <td>   -0.0199</td> <td>    0.013</td> <td>   -1.563</td> <td> 0.118</td> <td>   -0.045</td> <td>    0.005</td>\n",
       "</tr>\n",
       "<tr>\n",
       "  <th>male</th>                <td>    1.2014</td> <td>    0.251</td> <td>    4.788</td> <td> 0.000</td> <td>    0.709</td> <td>    1.694</td>\n",
       "</tr>\n",
       "<tr>\n",
       "  <th>income</th>              <td>   -0.2046</td> <td>    0.068</td> <td>   -3.028</td> <td> 0.003</td> <td>   -0.337</td> <td>   -0.072</td>\n",
       "</tr>\n",
       "<tr>\n",
       "  <th>entertainment_ratio</th> <td>    1.0221</td> <td>    1.467</td> <td>    0.697</td> <td> 0.486</td> <td>   -1.859</td> <td>    3.903</td>\n",
       "</tr>\n",
       "</table>\n",
       "<table class=\"simpletable\">\n",
       "<tr>\n",
       "  <th>Omnibus:</th>       <td>39.000</td> <th>  Durbin-Watson:     </th> <td>   1.973</td>\n",
       "</tr>\n",
       "<tr>\n",
       "  <th>Prob(Omnibus):</th> <td> 0.000</td> <th>  Jarque-Bera (JB):  </th> <td>  44.467</td>\n",
       "</tr>\n",
       "<tr>\n",
       "  <th>Skew:</th>          <td>-0.603</td> <th>  Prob(JB):          </th> <td>2.21e-10</td>\n",
       "</tr>\n",
       "<tr>\n",
       "  <th>Kurtosis:</th>      <td> 2.927</td> <th>  Cond. No.          </th> <td>    529.</td>\n",
       "</tr>\n",
       "</table><br/><br/>Warnings:<br/>[1] Standard Errors assume that the covariance matrix of the errors is correctly specified."
      ],
      "text/plain": [
       "<class 'statsmodels.iolib.summary.Summary'>\n",
       "\"\"\"\n",
       "                            OLS Regression Results                            \n",
       "==============================================================================\n",
       "Dep. Variable:               type_num   R-squared:                       0.046\n",
       "Model:                            OLS   Adj. R-squared:                  0.039\n",
       "Method:                 Least Squares   F-statistic:                     5.884\n",
       "Date:                Mon, 06 Jul 2020   Prob (F-statistic):           5.23e-06\n",
       "Time:                        12:41:37   Log-Likelihood:                -1750.8\n",
       "No. Observations:                 731   AIC:                             3516.\n",
       "Df Residuals:                     724   BIC:                             3548.\n",
       "Df Model:                           6                                         \n",
       "Covariance Type:            nonrobust                                         \n",
       "=======================================================================================\n",
       "                          coef    std err          t      P>|t|      [0.025      0.975]\n",
       "---------------------------------------------------------------------------------------\n",
       "Intercept               8.9750      0.665     13.488      0.000       7.669      10.281\n",
       "job                     0.1284      0.071      1.800      0.072      -0.012       0.268\n",
       "edu                     0.2178      0.112      1.951      0.051      -0.001       0.437\n",
       "age                    -0.0199      0.013     -1.563      0.118      -0.045       0.005\n",
       "male                    1.2014      0.251      4.788      0.000       0.709       1.694\n",
       "income                 -0.2046      0.068     -3.028      0.003      -0.337      -0.072\n",
       "entertainment_ratio     1.0221      1.467      0.697      0.486      -1.859       3.903\n",
       "==============================================================================\n",
       "Omnibus:                       39.000   Durbin-Watson:                   1.973\n",
       "Prob(Omnibus):                  0.000   Jarque-Bera (JB):               44.467\n",
       "Skew:                          -0.603   Prob(JB):                     2.21e-10\n",
       "Kurtosis:                       2.927   Cond. No.                         529.\n",
       "==============================================================================\n",
       "\n",
       "Warnings:\n",
       "[1] Standard Errors assume that the covariance matrix of the errors is correctly specified.\n",
       "\"\"\""
      ]
     },
     "execution_count": 47,
     "metadata": {},
     "output_type": "execute_result"
    }
   ],
   "source": [
    "reg = smf.ols('type_num ~ job+edu+age+male+income+entertainment_ratio',\n",
    "               data = data).fit()\n",
    "reg.summary()"
   ]
  },
  {
   "cell_type": "code",
   "execution_count": 71,
   "metadata": {
    "ExecuteTime": {
     "end_time": "2020-07-07T16:40:05.448526Z",
     "start_time": "2020-07-07T16:40:05.425661Z"
    }
   },
   "outputs": [
    {
     "data": {
      "text/html": [
       "<table class=\"simpletable\">\n",
       "<caption>OLS Regression Results</caption>\n",
       "<tr>\n",
       "  <th>Dep. Variable:</th>      <td>maxmin_nonent</td>  <th>  R-squared:         </th> <td>   0.106</td>\n",
       "</tr>\n",
       "<tr>\n",
       "  <th>Model:</th>                   <td>OLS</td>       <th>  Adj. R-squared:    </th> <td>   0.105</td>\n",
       "</tr>\n",
       "<tr>\n",
       "  <th>Method:</th>             <td>Least Squares</td>  <th>  F-statistic:       </th> <td>   116.0</td>\n",
       "</tr>\n",
       "<tr>\n",
       "  <th>Date:</th>             <td>Wed, 08 Jul 2020</td> <th>  Prob (F-statistic):</th> <td>1.22e-25</td>\n",
       "</tr>\n",
       "<tr>\n",
       "  <th>Time:</th>                 <td>00:40:05</td>     <th>  Log-Likelihood:    </th> <td>  1258.1</td>\n",
       "</tr>\n",
       "<tr>\n",
       "  <th>No. Observations:</th>      <td>   978</td>      <th>  AIC:               </th> <td>  -2512.</td>\n",
       "</tr>\n",
       "<tr>\n",
       "  <th>Df Residuals:</th>          <td>   976</td>      <th>  BIC:               </th> <td>  -2502.</td>\n",
       "</tr>\n",
       "<tr>\n",
       "  <th>Df Model:</th>              <td>     1</td>      <th>                     </th>     <td> </td>   \n",
       "</tr>\n",
       "<tr>\n",
       "  <th>Covariance Type:</th>      <td>nonrobust</td>    <th>                     </th>     <td> </td>   \n",
       "</tr>\n",
       "</table>\n",
       "<table class=\"simpletable\">\n",
       "<tr>\n",
       "        <td></td>           <th>coef</th>     <th>std err</th>      <th>t</th>      <th>P>|t|</th>  <th>[0.025</th>    <th>0.975]</th>  \n",
       "</tr>\n",
       "<tr>\n",
       "  <th>Intercept</th>     <td>    0.2293</td> <td>    0.005</td> <td>   45.260</td> <td> 0.000</td> <td>    0.219</td> <td>    0.239</td>\n",
       "</tr>\n",
       "<tr>\n",
       "  <th>game_min_rank</th> <td>   -0.0186</td> <td>    0.002</td> <td>  -10.771</td> <td> 0.000</td> <td>   -0.022</td> <td>   -0.015</td>\n",
       "</tr>\n",
       "</table>\n",
       "<table class=\"simpletable\">\n",
       "<tr>\n",
       "  <th>Omnibus:</th>       <td> 5.584</td> <th>  Durbin-Watson:     </th> <td>   1.946</td>\n",
       "</tr>\n",
       "<tr>\n",
       "  <th>Prob(Omnibus):</th> <td> 0.061</td> <th>  Jarque-Bera (JB):  </th> <td>   6.315</td>\n",
       "</tr>\n",
       "<tr>\n",
       "  <th>Skew:</th>          <td> 0.094</td> <th>  Prob(JB):          </th> <td>  0.0425</td>\n",
       "</tr>\n",
       "<tr>\n",
       "  <th>Kurtosis:</th>      <td> 3.346</td> <th>  Cond. No.          </th> <td>    7.61</td>\n",
       "</tr>\n",
       "</table><br/><br/>Warnings:<br/>[1] Standard Errors assume that the covariance matrix of the errors is correctly specified."
      ],
      "text/plain": [
       "<class 'statsmodels.iolib.summary.Summary'>\n",
       "\"\"\"\n",
       "                            OLS Regression Results                            \n",
       "==============================================================================\n",
       "Dep. Variable:          maxmin_nonent   R-squared:                       0.106\n",
       "Model:                            OLS   Adj. R-squared:                  0.105\n",
       "Method:                 Least Squares   F-statistic:                     116.0\n",
       "Date:                Wed, 08 Jul 2020   Prob (F-statistic):           1.22e-25\n",
       "Time:                        00:40:05   Log-Likelihood:                 1258.1\n",
       "No. Observations:                 978   AIC:                            -2512.\n",
       "Df Residuals:                     976   BIC:                            -2502.\n",
       "Df Model:                           1                                         \n",
       "Covariance Type:            nonrobust                                         \n",
       "=================================================================================\n",
       "                    coef    std err          t      P>|t|      [0.025      0.975]\n",
       "---------------------------------------------------------------------------------\n",
       "Intercept         0.2293      0.005     45.260      0.000       0.219       0.239\n",
       "game_min_rank    -0.0186      0.002    -10.771      0.000      -0.022      -0.015\n",
       "==============================================================================\n",
       "Omnibus:                        5.584   Durbin-Watson:                   1.946\n",
       "Prob(Omnibus):                  0.061   Jarque-Bera (JB):                6.315\n",
       "Skew:                           0.094   Prob(JB):                       0.0425\n",
       "Kurtosis:                       3.346   Cond. No.                         7.61\n",
       "==============================================================================\n",
       "\n",
       "Warnings:\n",
       "[1] Standard Errors assume that the covariance matrix of the errors is correctly specified.\n",
       "\"\"\""
      ]
     },
     "execution_count": 71,
     "metadata": {},
     "output_type": "execute_result"
    }
   ],
   "source": [
    "reg = smf.ols('maxmin_nonent ~ game_min_rank',\n",
    "               data = data).fit()\n",
    "reg.summary()"
   ]
  },
  {
   "cell_type": "code",
   "execution_count": 58,
   "metadata": {
    "ExecuteTime": {
     "end_time": "2020-07-06T04:44:30.295086Z",
     "start_time": "2020-07-06T04:44:30.261486Z"
    },
    "scrolled": false
   },
   "outputs": [
    {
     "data": {
      "text/html": [
       "<table class=\"simpletable\">\n",
       "<caption>OLS Regression Results</caption>\n",
       "<tr>\n",
       "  <th>Dep. Variable:</th>     <td>maxmin_nonent_p</td> <th>  R-squared:         </th> <td>   0.379</td>\n",
       "</tr>\n",
       "<tr>\n",
       "  <th>Model:</th>                   <td>OLS</td>       <th>  Adj. R-squared:    </th> <td>   0.373</td>\n",
       "</tr>\n",
       "<tr>\n",
       "  <th>Method:</th>             <td>Least Squares</td>  <th>  F-statistic:       </th> <td>   63.04</td>\n",
       "</tr>\n",
       "<tr>\n",
       "  <th>Date:</th>             <td>Mon, 06 Jul 2020</td> <th>  Prob (F-statistic):</th> <td>1.06e-70</td>\n",
       "</tr>\n",
       "<tr>\n",
       "  <th>Time:</th>                 <td>12:44:30</td>     <th>  Log-Likelihood:    </th> <td>  50.141</td>\n",
       "</tr>\n",
       "<tr>\n",
       "  <th>No. Observations:</th>      <td>   731</td>      <th>  AIC:               </th> <td>  -84.28</td>\n",
       "</tr>\n",
       "<tr>\n",
       "  <th>Df Residuals:</th>          <td>   723</td>      <th>  BIC:               </th> <td>  -47.53</td>\n",
       "</tr>\n",
       "<tr>\n",
       "  <th>Df Model:</th>              <td>     7</td>      <th>                     </th>     <td> </td>   \n",
       "</tr>\n",
       "<tr>\n",
       "  <th>Covariance Type:</th>      <td>nonrobust</td>    <th>                     </th>     <td> </td>   \n",
       "</tr>\n",
       "</table>\n",
       "<table class=\"simpletable\">\n",
       "<tr>\n",
       "      <td></td>         <th>coef</th>     <th>std err</th>      <th>t</th>      <th>P>|t|</th>  <th>[0.025</th>    <th>0.975]</th>  \n",
       "</tr>\n",
       "<tr>\n",
       "  <th>Intercept</th> <td>   -0.4242</td> <td>    0.066</td> <td>   -6.392</td> <td> 0.000</td> <td>   -0.554</td> <td>   -0.294</td>\n",
       "</tr>\n",
       "<tr>\n",
       "  <th>job1</th>      <td>    0.0296</td> <td>    0.012</td> <td>    2.486</td> <td> 0.013</td> <td>    0.006</td> <td>    0.053</td>\n",
       "</tr>\n",
       "<tr>\n",
       "  <th>edu</th>       <td>    0.0199</td> <td>    0.010</td> <td>    2.077</td> <td> 0.038</td> <td>    0.001</td> <td>    0.039</td>\n",
       "</tr>\n",
       "<tr>\n",
       "  <th>age</th>       <td>    0.0020</td> <td>    0.001</td> <td>    1.819</td> <td> 0.069</td> <td>   -0.000</td> <td>    0.004</td>\n",
       "</tr>\n",
       "<tr>\n",
       "  <th>male</th>      <td>    0.0060</td> <td>    0.022</td> <td>    0.275</td> <td> 0.783</td> <td>   -0.037</td> <td>    0.049</td>\n",
       "</tr>\n",
       "<tr>\n",
       "  <th>income</th>    <td>    0.0002</td> <td>    0.006</td> <td>    0.031</td> <td> 0.975</td> <td>   -0.012</td> <td>    0.012</td>\n",
       "</tr>\n",
       "<tr>\n",
       "  <th>city_rank</th> <td>    0.0130</td> <td>    0.006</td> <td>    2.272</td> <td> 0.023</td> <td>    0.002</td> <td>    0.024</td>\n",
       "</tr>\n",
       "<tr>\n",
       "  <th>type_num</th>  <td>    0.0619</td> <td>    0.003</td> <td>   19.533</td> <td> 0.000</td> <td>    0.056</td> <td>    0.068</td>\n",
       "</tr>\n",
       "</table>\n",
       "<table class=\"simpletable\">\n",
       "<tr>\n",
       "  <th>Omnibus:</th>       <td>22.570</td> <th>  Durbin-Watson:     </th> <td>   1.879</td>\n",
       "</tr>\n",
       "<tr>\n",
       "  <th>Prob(Omnibus):</th> <td> 0.000</td> <th>  Jarque-Bera (JB):  </th> <td>  24.085</td>\n",
       "</tr>\n",
       "<tr>\n",
       "  <th>Skew:</th>          <td> 0.445</td> <th>  Prob(JB):          </th> <td>5.89e-06</td>\n",
       "</tr>\n",
       "<tr>\n",
       "  <th>Kurtosis:</th>      <td> 3.021</td> <th>  Cond. No.          </th> <td>    289.</td>\n",
       "</tr>\n",
       "</table><br/><br/>Warnings:<br/>[1] Standard Errors assume that the covariance matrix of the errors is correctly specified."
      ],
      "text/plain": [
       "<class 'statsmodels.iolib.summary.Summary'>\n",
       "\"\"\"\n",
       "                            OLS Regression Results                            \n",
       "==============================================================================\n",
       "Dep. Variable:        maxmin_nonent_p   R-squared:                       0.379\n",
       "Model:                            OLS   Adj. R-squared:                  0.373\n",
       "Method:                 Least Squares   F-statistic:                     63.04\n",
       "Date:                Mon, 06 Jul 2020   Prob (F-statistic):           1.06e-70\n",
       "Time:                        12:44:30   Log-Likelihood:                 50.141\n",
       "No. Observations:                 731   AIC:                            -84.28\n",
       "Df Residuals:                     723   BIC:                            -47.53\n",
       "Df Model:                           7                                         \n",
       "Covariance Type:            nonrobust                                         \n",
       "==============================================================================\n",
       "                 coef    std err          t      P>|t|      [0.025      0.975]\n",
       "------------------------------------------------------------------------------\n",
       "Intercept     -0.4242      0.066     -6.392      0.000      -0.554      -0.294\n",
       "job1           0.0296      0.012      2.486      0.013       0.006       0.053\n",
       "edu            0.0199      0.010      2.077      0.038       0.001       0.039\n",
       "age            0.0020      0.001      1.819      0.069      -0.000       0.004\n",
       "male           0.0060      0.022      0.275      0.783      -0.037       0.049\n",
       "income         0.0002      0.006      0.031      0.975      -0.012       0.012\n",
       "city_rank      0.0130      0.006      2.272      0.023       0.002       0.024\n",
       "type_num       0.0619      0.003     19.533      0.000       0.056       0.068\n",
       "==============================================================================\n",
       "Omnibus:                       22.570   Durbin-Watson:                   1.879\n",
       "Prob(Omnibus):                  0.000   Jarque-Bera (JB):               24.085\n",
       "Skew:                           0.445   Prob(JB):                     5.89e-06\n",
       "Kurtosis:                       3.021   Cond. No.                         289.\n",
       "==============================================================================\n",
       "\n",
       "Warnings:\n",
       "[1] Standard Errors assume that the covariance matrix of the errors is correctly specified.\n",
       "\"\"\""
      ]
     },
     "execution_count": 58,
     "metadata": {},
     "output_type": "execute_result"
    }
   ],
   "source": [
    "reg = smf.ols('maxmin_nonent_p ~ job1+edu+age+male+income+city_rank+type_num',\n",
    "               data = data).fit()\n",
    "reg.summary()"
   ]
  },
  {
   "cell_type": "code",
   "execution_count": 59,
   "metadata": {
    "ExecuteTime": {
     "end_time": "2020-07-06T04:44:41.766322Z",
     "start_time": "2020-07-06T04:44:41.731870Z"
    },
    "scrolled": false
   },
   "outputs": [
    {
     "data": {
      "text/html": [
       "<table class=\"simpletable\">\n",
       "<caption>OLS Regression Results</caption>\n",
       "<tr>\n",
       "  <th>Dep. Variable:</th>        <td>radius_p</td>     <th>  R-squared:         </th> <td>   0.140</td>\n",
       "</tr>\n",
       "<tr>\n",
       "  <th>Model:</th>                   <td>OLS</td>       <th>  Adj. R-squared:    </th> <td>   0.132</td>\n",
       "</tr>\n",
       "<tr>\n",
       "  <th>Method:</th>             <td>Least Squares</td>  <th>  F-statistic:       </th> <td>   16.82</td>\n",
       "</tr>\n",
       "<tr>\n",
       "  <th>Date:</th>             <td>Mon, 06 Jul 2020</td> <th>  Prob (F-statistic):</th> <td>1.19e-20</td>\n",
       "</tr>\n",
       "<tr>\n",
       "  <th>Time:</th>                 <td>12:44:41</td>     <th>  Log-Likelihood:    </th> <td> -72.431</td>\n",
       "</tr>\n",
       "<tr>\n",
       "  <th>No. Observations:</th>      <td>   731</td>      <th>  AIC:               </th> <td>   160.9</td>\n",
       "</tr>\n",
       "<tr>\n",
       "  <th>Df Residuals:</th>          <td>   723</td>      <th>  BIC:               </th> <td>   197.6</td>\n",
       "</tr>\n",
       "<tr>\n",
       "  <th>Df Model:</th>              <td>     7</td>      <th>                     </th>     <td> </td>   \n",
       "</tr>\n",
       "<tr>\n",
       "  <th>Covariance Type:</th>      <td>nonrobust</td>    <th>                     </th>     <td> </td>   \n",
       "</tr>\n",
       "</table>\n",
       "<table class=\"simpletable\">\n",
       "<tr>\n",
       "      <td></td>         <th>coef</th>     <th>std err</th>      <th>t</th>      <th>P>|t|</th>  <th>[0.025</th>    <th>0.975]</th>  \n",
       "</tr>\n",
       "<tr>\n",
       "  <th>Intercept</th> <td>    0.3795</td> <td>    0.091</td> <td>    4.161</td> <td> 0.000</td> <td>    0.200</td> <td>    0.559</td>\n",
       "</tr>\n",
       "<tr>\n",
       "  <th>job1</th>      <td>   -0.0164</td> <td>    0.014</td> <td>   -1.189</td> <td> 0.235</td> <td>   -0.043</td> <td>    0.011</td>\n",
       "</tr>\n",
       "<tr>\n",
       "  <th>edu1</th>      <td>   -0.0332</td> <td>    0.033</td> <td>   -1.007</td> <td> 0.314</td> <td>   -0.098</td> <td>    0.032</td>\n",
       "</tr>\n",
       "<tr>\n",
       "  <th>age</th>       <td>   -0.0006</td> <td>    0.001</td> <td>   -0.479</td> <td> 0.632</td> <td>   -0.003</td> <td>    0.002</td>\n",
       "</tr>\n",
       "<tr>\n",
       "  <th>male</th>      <td>    0.0045</td> <td>    0.026</td> <td>    0.177</td> <td> 0.860</td> <td>   -0.046</td> <td>    0.055</td>\n",
       "</tr>\n",
       "<tr>\n",
       "  <th>income</th>    <td>   -0.0088</td> <td>    0.007</td> <td>   -1.245</td> <td> 0.214</td> <td>   -0.023</td> <td>    0.005</td>\n",
       "</tr>\n",
       "<tr>\n",
       "  <th>city_rank</th> <td>   -0.0095</td> <td>    0.007</td> <td>   -1.409</td> <td> 0.159</td> <td>   -0.023</td> <td>    0.004</td>\n",
       "</tr>\n",
       "<tr>\n",
       "  <th>type_num</th>  <td>    0.0372</td> <td>    0.004</td> <td>    9.949</td> <td> 0.000</td> <td>    0.030</td> <td>    0.045</td>\n",
       "</tr>\n",
       "</table>\n",
       "<table class=\"simpletable\">\n",
       "<tr>\n",
       "  <th>Omnibus:</th>       <td>16.828</td> <th>  Durbin-Watson:     </th> <td>   1.960</td>\n",
       "</tr>\n",
       "<tr>\n",
       "  <th>Prob(Omnibus):</th> <td> 0.000</td> <th>  Jarque-Bera (JB):  </th> <td>  11.951</td>\n",
       "</tr>\n",
       "<tr>\n",
       "  <th>Skew:</th>          <td> 0.198</td> <th>  Prob(JB):          </th> <td> 0.00254</td>\n",
       "</tr>\n",
       "<tr>\n",
       "  <th>Kurtosis:</th>      <td> 2.514</td> <th>  Cond. No.          </th> <td>    341.</td>\n",
       "</tr>\n",
       "</table><br/><br/>Warnings:<br/>[1] Standard Errors assume that the covariance matrix of the errors is correctly specified."
      ],
      "text/plain": [
       "<class 'statsmodels.iolib.summary.Summary'>\n",
       "\"\"\"\n",
       "                            OLS Regression Results                            \n",
       "==============================================================================\n",
       "Dep. Variable:               radius_p   R-squared:                       0.140\n",
       "Model:                            OLS   Adj. R-squared:                  0.132\n",
       "Method:                 Least Squares   F-statistic:                     16.82\n",
       "Date:                Mon, 06 Jul 2020   Prob (F-statistic):           1.19e-20\n",
       "Time:                        12:44:41   Log-Likelihood:                -72.431\n",
       "No. Observations:                 731   AIC:                             160.9\n",
       "Df Residuals:                     723   BIC:                             197.6\n",
       "Df Model:                           7                                         \n",
       "Covariance Type:            nonrobust                                         \n",
       "==============================================================================\n",
       "                 coef    std err          t      P>|t|      [0.025      0.975]\n",
       "------------------------------------------------------------------------------\n",
       "Intercept      0.3795      0.091      4.161      0.000       0.200       0.559\n",
       "job1          -0.0164      0.014     -1.189      0.235      -0.043       0.011\n",
       "edu1          -0.0332      0.033     -1.007      0.314      -0.098       0.032\n",
       "age           -0.0006      0.001     -0.479      0.632      -0.003       0.002\n",
       "male           0.0045      0.026      0.177      0.860      -0.046       0.055\n",
       "income        -0.0088      0.007     -1.245      0.214      -0.023       0.005\n",
       "city_rank     -0.0095      0.007     -1.409      0.159      -0.023       0.004\n",
       "type_num       0.0372      0.004      9.949      0.000       0.030       0.045\n",
       "==============================================================================\n",
       "Omnibus:                       16.828   Durbin-Watson:                   1.960\n",
       "Prob(Omnibus):                  0.000   Jarque-Bera (JB):               11.951\n",
       "Skew:                           0.198   Prob(JB):                      0.00254\n",
       "Kurtosis:                       2.514   Cond. No.                         341.\n",
       "==============================================================================\n",
       "\n",
       "Warnings:\n",
       "[1] Standard Errors assume that the covariance matrix of the errors is correctly specified.\n",
       "\"\"\""
      ]
     },
     "execution_count": 59,
     "metadata": {},
     "output_type": "execute_result"
    }
   ],
   "source": [
    "reg = smf.ols('radius_p ~ job1+edu1+age+male+income+city_rank+type_num',\n",
    "               data = data).fit()\n",
    "reg.summary()"
   ]
  },
  {
   "cell_type": "code",
   "execution_count": 61,
   "metadata": {
    "ExecuteTime": {
     "end_time": "2020-04-25T06:44:39.311621Z",
     "start_time": "2020-04-25T06:44:39.307457Z"
    }
   },
   "outputs": [],
   "source": [
    "# X=np.array(data1[['job','edu','age','male','income','city_rank']].values)"
   ]
  },
  {
   "cell_type": "code",
   "execution_count": 62,
   "metadata": {
    "ExecuteTime": {
     "end_time": "2020-04-25T06:44:39.701863Z",
     "start_time": "2020-04-25T06:44:39.698734Z"
    }
   },
   "outputs": [],
   "source": [
    "# y=np.array(data1['maxmin_p'].values)"
   ]
  },
  {
   "cell_type": "code",
   "execution_count": 63,
   "metadata": {
    "ExecuteTime": {
     "end_time": "2020-04-25T06:44:40.062389Z",
     "start_time": "2020-04-25T06:44:40.059513Z"
    }
   },
   "outputs": [],
   "source": [
    "# kf = KFold(n_splits=5)"
   ]
  },
  {
   "cell_type": "code",
   "execution_count": 39,
   "metadata": {
    "ExecuteTime": {
     "end_time": "2020-06-06T14:35:45.742012Z",
     "start_time": "2020-06-06T14:35:45.738730Z"
    }
   },
   "outputs": [],
   "source": [
    "# for train_index, test_index in kf.split(X):\n",
    "#     X_train, X_test = X[train_index], X[test_index]\n",
    "#     y_train, y_test = y[train_index], y[test_index]\n",
    "#     clf = svm.SVR(kernel='linear')\n",
    "#     clf.fit(X_train, y_train)\n",
    "#     pre=clf.predict(X_test)\n",
    "#     print(r2_score(y_test,pre))"
   ]
  },
  {
   "cell_type": "markdown",
   "metadata": {},
   "source": [
    "##### entertainment_min"
   ]
  },
  {
   "cell_type": "code",
   "execution_count": 75,
   "metadata": {
    "ExecuteTime": {
     "end_time": "2020-06-10T14:52:08.922285Z",
     "start_time": "2020-06-10T14:52:08.727104Z"
    }
   },
   "outputs": [],
   "source": [
    "# data['game_min']=data.apply(lambda x: np.min([eval(x['min_has'])['1.0'],eval(x['min_has'])['2.0'],eval(x['min_has'])['3.0']])\n",
    "#                            if np.min([eval(x['min_has'])['1.0'],eval(x['min_has'])['2.0'],eval(x['min_has'])['3.0']])!=1\n",
    "#                            else np.nan,axis=1)"
   ]
  },
  {
   "cell_type": "code",
   "execution_count": 51,
   "metadata": {
    "ExecuteTime": {
     "end_time": "2020-06-27T10:21:19.018713Z",
     "start_time": "2020-06-27T10:21:18.718516Z"
    }
   },
   "outputs": [
    {
     "name": "stderr",
     "output_type": "stream",
     "text": [
      "/Users/xuhuimin/anaconda3/lib/python3.6/site-packages/numpy/lib/histograms.py:754: RuntimeWarning: invalid value encountered in greater_equal\n",
      "  keep = (tmp_a >= first_edge)\n",
      "/Users/xuhuimin/anaconda3/lib/python3.6/site-packages/numpy/lib/histograms.py:755: RuntimeWarning: invalid value encountered in less_equal\n",
      "  keep &= (tmp_a <= last_edge)\n"
     ]
    },
    {
     "data": {
      "image/png": "[encoded data removed]",
      "text/plain": [
       "<Figure size 432x288 with 1 Axes>"
      ]
     },
     "metadata": {},
     "output_type": "display_data"
    }
   ],
   "source": [
    "plt.hist(data['game_min'],bins=100)\n",
    "plt.show()"
   ]
  },
  {
   "cell_type": "code",
   "execution_count": 82,
   "metadata": {
    "ExecuteTime": {
     "end_time": "2020-05-05T04:27:37.088126Z",
     "start_time": "2020-05-05T04:27:37.083216Z"
    }
   },
   "outputs": [],
   "source": [
    "# data1=data[data['game_min']!=1]"
   ]
  },
  {
   "cell_type": "code",
   "execution_count": 81,
   "metadata": {
    "ExecuteTime": {
     "end_time": "2020-06-24T15:24:05.482752Z",
     "start_time": "2020-06-24T15:24:04.386315Z"
    }
   },
   "outputs": [
    {
     "name": "stderr",
     "output_type": "stream",
     "text": [
      "/Users/xuhuimin/anaconda3/lib/python3.6/site-packages/scipy/stats/stats.py:1713: FutureWarning: Using a non-tuple sequence for multidimensional indexing is deprecated; use `arr[tuple(seq)]` instead of `arr[seq]`. In the future this will be interpreted as an array index, `arr[np.array(seq)]`, which will result either in an error or a different result.\n",
      "  return np.add.reduce(sorted[indexer] * weights, axis=axis) / sumval\n"
     ]
    },
    {
     "data": {
      "image/png": "[encoded data removed]",
      "text/plain": [
       "<Figure size 432x288 with 1 Axes>"
      ]
     },
     "metadata": {},
     "output_type": "display_data"
    },
    {
     "data": {
      "image/png": "[encoded data removed]",
      "text/plain": [
       "<Figure size 432x288 with 1 Axes>"
      ]
     },
     "metadata": {},
     "output_type": "display_data"
    },
    {
     "data": {
      "image/png": "[encoded data removed]",
      "text/plain": [
       "<Figure size 432x288 with 1 Axes>"
      ]
     },
     "metadata": {},
     "output_type": "display_data"
    }
   ],
   "source": [
    "sns.pointplot(x=\"job\",y=\"income\",data=data,color='blue')\n",
    "plt.show()\n",
    "sns.pointplot(x=\"job\",y=\"edu\",data=data,color='blue')\n",
    "plt.show()\n",
    "sns.pointplot(x=\"income\",y=\"edu\",data=data,color='blue')\n",
    "plt.show()"
   ]
  },
  {
   "cell_type": "code",
   "execution_count": 84,
   "metadata": {
    "ExecuteTime": {
     "end_time": "2020-06-24T15:24:24.257189Z",
     "start_time": "2020-06-24T15:24:23.237380Z"
    }
   },
   "outputs": [
    {
     "name": "stderr",
     "output_type": "stream",
     "text": [
      "/Users/xuhuimin/anaconda3/lib/python3.6/site-packages/scipy/stats/stats.py:1713: FutureWarning: Using a non-tuple sequence for multidimensional indexing is deprecated; use `arr[tuple(seq)]` instead of `arr[seq]`. In the future this will be interpreted as an array index, `arr[np.array(seq)]`, which will result either in an error or a different result.\n",
      "  return np.add.reduce(sorted[indexer] * weights, axis=axis) / sumval\n"
     ]
    },
    {
     "data": {
      "image/png": "[encoded data removed]",
      "text/plain": [
       "<Figure size 432x288 with 1 Axes>"
      ]
     },
     "metadata": {},
     "output_type": "display_data"
    },
    {
     "data": {
      "image/png": "[encoded data removed]",
      "text/plain": [
       "<Figure size 432x288 with 1 Axes>"
      ]
     },
     "metadata": {},
     "output_type": "display_data"
    },
    {
     "data": {
      "image/png": "[encoded data removed]",
      "text/plain": [
       "<Figure size 432x288 with 1 Axes>"
      ]
     },
     "metadata": {},
     "output_type": "display_data"
    }
   ],
   "source": [
    "sns.pointplot(x=\"income\",y=\"game_min_rank\",data=data,color='blue')\n",
    "plt.show()\n",
    "sns.pointplot(x=\"edu\",y=\"game_min_rank\",data=data,color='blue')\n",
    "plt.show()\n",
    "sns.pointplot(x=\"job1\",y=\"game_min_rank\",data=data,color='blue')\n",
    "plt.show()"
   ]
  },
  {
   "cell_type": "code",
   "execution_count": 69,
   "metadata": {
    "ExecuteTime": {
     "end_time": "2020-07-07T16:13:55.023216Z",
     "start_time": "2020-07-07T16:13:54.989253Z"
    }
   },
   "outputs": [
    {
     "data": {
      "text/html": [
       "<table class=\"simpletable\">\n",
       "<caption>OLS Regression Results</caption>\n",
       "<tr>\n",
       "  <th>Dep. Variable:</th>      <td>game_min_rank</td>  <th>  R-squared:         </th> <td>   0.040</td>\n",
       "</tr>\n",
       "<tr>\n",
       "  <th>Model:</th>                   <td>OLS</td>       <th>  Adj. R-squared:    </th> <td>   0.030</td>\n",
       "</tr>\n",
       "<tr>\n",
       "  <th>Method:</th>             <td>Least Squares</td>  <th>  F-statistic:       </th> <td>   4.275</td>\n",
       "</tr>\n",
       "<tr>\n",
       "  <th>Date:</th>             <td>Wed, 08 Jul 2020</td> <th>  Prob (F-statistic):</th> <td>0.000121</td>\n",
       "</tr>\n",
       "<tr>\n",
       "  <th>Time:</th>                 <td>00:13:55</td>     <th>  Log-Likelihood:    </th> <td> -1200.7</td>\n",
       "</tr>\n",
       "<tr>\n",
       "  <th>No. Observations:</th>      <td>   731</td>      <th>  AIC:               </th> <td>   2417.</td>\n",
       "</tr>\n",
       "<tr>\n",
       "  <th>Df Residuals:</th>          <td>   723</td>      <th>  BIC:               </th> <td>   2454.</td>\n",
       "</tr>\n",
       "<tr>\n",
       "  <th>Df Model:</th>              <td>     7</td>      <th>                     </th>     <td> </td>   \n",
       "</tr>\n",
       "<tr>\n",
       "  <th>Covariance Type:</th>      <td>nonrobust</td>    <th>                     </th>     <td> </td>   \n",
       "</tr>\n",
       "</table>\n",
       "<table class=\"simpletable\">\n",
       "<tr>\n",
       "           <td></td>              <th>coef</th>     <th>std err</th>      <th>t</th>      <th>P>|t|</th>  <th>[0.025</th>    <th>0.975]</th>  \n",
       "</tr>\n",
       "<tr>\n",
       "  <th>Intercept</th>           <td>    3.8053</td> <td>    0.331</td> <td>   11.509</td> <td> 0.000</td> <td>    3.156</td> <td>    4.454</td>\n",
       "</tr>\n",
       "<tr>\n",
       "  <th>job</th>                 <td>   -0.0497</td> <td>    0.034</td> <td>   -1.469</td> <td> 0.142</td> <td>   -0.116</td> <td>    0.017</td>\n",
       "</tr>\n",
       "<tr>\n",
       "  <th>income</th>              <td>   -0.0074</td> <td>    0.033</td> <td>   -0.225</td> <td> 0.822</td> <td>   -0.072</td> <td>    0.057</td>\n",
       "</tr>\n",
       "<tr>\n",
       "  <th>edu</th>                 <td>   -0.1452</td> <td>    0.053</td> <td>   -2.753</td> <td> 0.006</td> <td>   -0.249</td> <td>   -0.042</td>\n",
       "</tr>\n",
       "<tr>\n",
       "  <th>age</th>                 <td>   -0.0045</td> <td>    0.006</td> <td>   -0.748</td> <td> 0.455</td> <td>   -0.016</td> <td>    0.007</td>\n",
       "</tr>\n",
       "<tr>\n",
       "  <th>male</th>                <td>   -0.0410</td> <td>    0.119</td> <td>   -0.346</td> <td> 0.729</td> <td>   -0.274</td> <td>    0.192</td>\n",
       "</tr>\n",
       "<tr>\n",
       "  <th>city_rank</th>           <td>   -0.0231</td> <td>    0.032</td> <td>   -0.726</td> <td> 0.468</td> <td>   -0.086</td> <td>    0.039</td>\n",
       "</tr>\n",
       "<tr>\n",
       "  <th>entertainment_ratio</th> <td>    1.7962</td> <td>    0.692</td> <td>    2.596</td> <td> 0.010</td> <td>    0.438</td> <td>    3.155</td>\n",
       "</tr>\n",
       "</table>\n",
       "<table class=\"simpletable\">\n",
       "<tr>\n",
       "  <th>Omnibus:</th>       <td>89.668</td> <th>  Durbin-Watson:     </th> <td>   2.024</td>\n",
       "</tr>\n",
       "<tr>\n",
       "  <th>Prob(Omnibus):</th> <td> 0.000</td> <th>  Jarque-Bera (JB):  </th> <td>  31.782</td>\n",
       "</tr>\n",
       "<tr>\n",
       "  <th>Skew:</th>          <td> 0.267</td> <th>  Prob(JB):          </th> <td>1.26e-07</td>\n",
       "</tr>\n",
       "<tr>\n",
       "  <th>Kurtosis:</th>      <td> 2.130</td> <th>  Cond. No.          </th> <td>    533.</td>\n",
       "</tr>\n",
       "</table><br/><br/>Warnings:<br/>[1] Standard Errors assume that the covariance matrix of the errors is correctly specified."
      ],
      "text/plain": [
       "<class 'statsmodels.iolib.summary.Summary'>\n",
       "\"\"\"\n",
       "                            OLS Regression Results                            \n",
       "==============================================================================\n",
       "Dep. Variable:          game_min_rank   R-squared:                       0.040\n",
       "Model:                            OLS   Adj. R-squared:                  0.030\n",
       "Method:                 Least Squares   F-statistic:                     4.275\n",
       "Date:                Wed, 08 Jul 2020   Prob (F-statistic):           0.000121\n",
       "Time:                        00:13:55   Log-Likelihood:                -1200.7\n",
       "No. Observations:                 731   AIC:                             2417.\n",
       "Df Residuals:                     723   BIC:                             2454.\n",
       "Df Model:                           7                                         \n",
       "Covariance Type:            nonrobust                                         \n",
       "=======================================================================================\n",
       "                          coef    std err          t      P>|t|      [0.025      0.975]\n",
       "---------------------------------------------------------------------------------------\n",
       "Intercept               3.8053      0.331     11.509      0.000       3.156       4.454\n",
       "job                    -0.0497      0.034     -1.469      0.142      -0.116       0.017\n",
       "income                 -0.0074      0.033     -0.225      0.822      -0.072       0.057\n",
       "edu                    -0.1452      0.053     -2.753      0.006      -0.249      -0.042\n",
       "age                    -0.0045      0.006     -0.748      0.455      -0.016       0.007\n",
       "male                   -0.0410      0.119     -0.346      0.729      -0.274       0.192\n",
       "city_rank              -0.0231      0.032     -0.726      0.468      -0.086       0.039\n",
       "entertainment_ratio     1.7962      0.692      2.596      0.010       0.438       3.155\n",
       "==============================================================================\n",
       "Omnibus:                       89.668   Durbin-Watson:                   2.024\n",
       "Prob(Omnibus):                  0.000   Jarque-Bera (JB):               31.782\n",
       "Skew:                           0.267   Prob(JB):                     1.26e-07\n",
       "Kurtosis:                       2.130   Cond. No.                         533.\n",
       "==============================================================================\n",
       "\n",
       "Warnings:\n",
       "[1] Standard Errors assume that the covariance matrix of the errors is correctly specified.\n",
       "\"\"\""
      ]
     },
     "execution_count": 69,
     "metadata": {},
     "output_type": "execute_result"
    }
   ],
   "source": [
    "reg = smf.ols('game_min_rank ~ job+income+edu+age+male+city_rank+entertainment_ratio',\n",
    "               data = data).fit()\n",
    "reg.summary()"
   ]
  },
  {
   "cell_type": "markdown",
   "metadata": {
    "heading_collapsed": true
   },
   "source": [
    "#### process data"
   ]
  },
  {
   "cell_type": "code",
   "execution_count": 87,
   "metadata": {
    "ExecuteTime": {
     "end_time": "2020-04-19T14:11:16.223738Z",
     "start_time": "2020-04-19T14:11:14.422539Z"
    },
    "hidden": true
   },
   "outputs": [],
   "source": [
    "category=pd.read_excel('./CNNIC_Clickstream1000_Data/data/category_.xlsx',names=['exe','count'])"
   ]
  },
  {
   "cell_type": "code",
   "execution_count": 88,
   "metadata": {
    "ExecuteTime": {
     "end_time": "2020-04-19T14:11:16.229387Z",
     "start_time": "2020-04-19T14:11:16.225752Z"
    },
    "hidden": true
   },
   "outputs": [
    {
     "data": {
      "text/plain": [
       "71506"
      ]
     },
     "execution_count": 88,
     "metadata": {},
     "output_type": "execute_result"
    }
   ],
   "source": [
    "len(category)"
   ]
  },
  {
   "cell_type": "code",
   "execution_count": 89,
   "metadata": {
    "ExecuteTime": {
     "end_time": "2020-04-19T14:11:16.275253Z",
     "start_time": "2020-04-19T14:11:16.231333Z"
    },
    "hidden": true
   },
   "outputs": [],
   "source": [
    "category['low']=category['exe'].apply(lambda x: x.lower() if type(x)== str else x)"
   ]
  },
  {
   "cell_type": "code",
   "execution_count": 90,
   "metadata": {
    "ExecuteTime": {
     "end_time": "2020-04-19T14:11:16.402040Z",
     "start_time": "2020-04-19T14:11:16.277218Z"
    },
    "hidden": true
   },
   "outputs": [],
   "source": [
    "category['low1']=category['low'].apply(lambda x: re.sub('.exe','',x) if type(x)== str else x)"
   ]
  },
  {
   "cell_type": "code",
   "execution_count": 91,
   "metadata": {
    "ExecuteTime": {
     "end_time": "2020-04-19T14:11:16.442191Z",
     "start_time": "2020-04-19T14:11:16.403742Z"
    },
    "hidden": true
   },
   "outputs": [],
   "source": [
    "category['len']=category['low1'].apply(lambda x: len(x) if type(x)== str else np.nan)"
   ]
  },
  {
   "cell_type": "code",
   "execution_count": 92,
   "metadata": {
    "ExecuteTime": {
     "end_time": "2020-04-19T14:11:16.694117Z",
     "start_time": "2020-04-19T14:11:16.643696Z"
    },
    "hidden": true
   },
   "outputs": [],
   "source": [
    "category=category.drop_duplicates(subset=['low1'])"
   ]
  },
  {
   "cell_type": "code",
   "execution_count": 93,
   "metadata": {
    "ExecuteTime": {
     "end_time": "2020-04-19T14:11:17.409151Z",
     "start_time": "2020-04-19T14:11:17.404800Z"
    },
    "hidden": true
   },
   "outputs": [
    {
     "data": {
      "text/plain": [
       "63140"
      ]
     },
     "execution_count": 93,
     "metadata": {},
     "output_type": "execute_result"
    }
   ],
   "source": [
    "len(category)"
   ]
  },
  {
   "cell_type": "code",
   "execution_count": 94,
   "metadata": {
    "ExecuteTime": {
     "end_time": "2020-04-19T14:11:18.920513Z",
     "start_time": "2020-04-19T14:11:18.910901Z"
    },
    "hidden": true
   },
   "outputs": [],
   "source": [
    "category=category[category['len']>=2]"
   ]
  },
  {
   "cell_type": "code",
   "execution_count": 95,
   "metadata": {
    "ExecuteTime": {
     "end_time": "2020-04-19T14:11:19.319107Z",
     "start_time": "2020-04-19T14:11:19.274974Z"
    },
    "hidden": true
   },
   "outputs": [],
   "source": [
    "category=category[~category['low1'].str.contains('setup')]"
   ]
  },
  {
   "cell_type": "code",
   "execution_count": 96,
   "metadata": {
    "ExecuteTime": {
     "end_time": "2020-04-19T14:11:19.825550Z",
     "start_time": "2020-04-19T14:11:19.783578Z"
    },
    "hidden": true
   },
   "outputs": [],
   "source": [
    "category=category[~category['low1'].str.contains('update')]"
   ]
  },
  {
   "cell_type": "code",
   "execution_count": 97,
   "metadata": {
    "ExecuteTime": {
     "end_time": "2020-04-19T14:11:20.269513Z",
     "start_time": "2020-04-19T14:11:20.226377Z"
    },
    "hidden": true
   },
   "outputs": [],
   "source": [
    "category=category[~category['low1'].str.contains('install')]"
   ]
  },
  {
   "cell_type": "code",
   "execution_count": 98,
   "metadata": {
    "ExecuteTime": {
     "end_time": "2020-04-19T14:11:21.687137Z",
     "start_time": "2020-04-19T14:11:21.644058Z"
    },
    "hidden": true
   },
   "outputs": [],
   "source": [
    "category=category[~category['low1'].str.contains('popup')]"
   ]
  },
  {
   "cell_type": "markdown",
   "metadata": {
    "heading_collapsed": true,
    "hidden": true
   },
   "source": [
    "##### category"
   ]
  },
  {
   "cell_type": "code",
   "execution_count": 99,
   "metadata": {
    "ExecuteTime": {
     "end_time": "2020-04-19T14:11:24.773748Z",
     "start_time": "2020-04-19T14:11:24.734045Z"
    },
    "hidden": true
   },
   "outputs": [],
   "source": [
    "auto=['explore'] #==\n",
    "video=['爱奇艺','暴风影音','电视','快播','优酷','电影','film','video','pplive','ikucmc','baofeng','youku','kugou','qvoddaily','cntv']\n",
    "game=['游戏','game','ddzrpg','lolbox','war3','GLWorld','三国杀','炫舞','qq农牧','frozen throne','qqpet','qqpig','angrybirds','奇兵助手','冒險伴侶','疯狂五子连珠',\n",
    "'神仙道小分队','祖玛传奇','qqdragon','五子连珠','lol_v3','吞食鱼','qq堂外挂网_4','q宠大乐斗小分队_1','warcraft','植物大战僵尸','穿越火线','superkiller','17173梦幻神灯','蜘蛛纸牌',\n",
    "'虎兔连击','spider','斗地主','愤怒的小鸟','冒险','极品飞车']\n",
    "music=['music','音乐','duomi','player','itunes']\n",
    "reading=['人人阅读','reader.qq.com','vipreader.qidian.com','vipreader.qdmm.com']\n",
    "news=['news','sohu']\n",
    "office=['notepad','阅读','mail','邮件','foxit','ibook','iread','adobe premiere pro',\n",
    "'mindmanager', 'dreamweaver', 'illustrator', 'photoshop', 'xdict', 'photoshopcs5', \n",
    "'图片幻灯', 'java', 'word2007', 'skype', 'youdaonote', 'powerpnt', 'jisibar', 'adobe premiere pro',\n",
    "'yodaodict', 'noteexpress', 'winword', 'teamviewer', '本草纲目-商业版', '有道词典', 'wps', 'gis',\n",
    "'excel', 'formatfactory', '表达式计算器', '东方法律宝典', 'outlook', 'googleearth', 'lingoes', \n",
    "'wordpad', '计量管理平台', 'matlab']\n",
    "tool=['haozip','360zip','kuaizip','压缩','迅雷','thunder','wandoujia','输入法','照片','91助手']\n",
    "commu=['qq', '阿里旺旺','skype','msnmsgr'] #==\n",
    "forum=['qq空间','renren','tieba','bbs']\n",
    "pay=['pay','银行','bank','icbc']\n",
    "shopping=['dangdang','taobao','淘宝','天猫','58','京东','1号店','meituan','amazon']\n",
    "travel=['携程','航空']\n",
    "explore=['chrome','explore']\n",
    "service=['weather','日历','公交查询']\n",
    "recruitment=['job','招聘']"
   ]
  },
  {
   "cell_type": "code",
   "execution_count": 100,
   "metadata": {
    "ExecuteTime": {
     "end_time": "2020-04-19T14:11:25.441038Z",
     "start_time": "2020-04-19T14:11:25.382425Z"
    },
    "hidden": true
   },
   "outputs": [],
   "source": [
    "def cat(x):\n",
    "    if x in auto:\n",
    "        return 18 \n",
    "    for i in video:\n",
    "        if i in x:\n",
    "            return 1\n",
    "    for i in game:\n",
    "        if i in x:\n",
    "            return 2\n",
    "    for i in music:\n",
    "        if i in x:\n",
    "            return 3\n",
    "    for i in reading:\n",
    "        if i in x:\n",
    "            return 4\n",
    "    for i in news:\n",
    "        if i in x:\n",
    "            return 5\n",
    "    for i in office:\n",
    "        if i in x:\n",
    "            return 6\n",
    "    for i in tool:\n",
    "        if i in x:\n",
    "            return 7\n",
    "    if x in commu:\n",
    "        return 8\n",
    "    for i in forum:\n",
    "        if i in x:\n",
    "            return 9\n",
    "    for i in pay:\n",
    "        if i in x:\n",
    "            return 10\n",
    "    for i in shopping:\n",
    "        if i in x:\n",
    "            return 11\n",
    "    for i in travel:\n",
    "        if i in x:\n",
    "            return 12\n",
    "    for i in explore:\n",
    "        if i in x:\n",
    "            return 13\n",
    "    for i in service:\n",
    "        if i in x:\n",
    "            return 14\n",
    "    for i in recruitment:\n",
    "        if i in x:\n",
    "            return 16\n",
    "    if '360' in x:\n",
    "        return 18\n",
    "    else:\n",
    "        return np.nan"
   ]
  },
  {
   "cell_type": "code",
   "execution_count": 101,
   "metadata": {
    "ExecuteTime": {
     "end_time": "2020-04-19T14:11:27.009510Z",
     "start_time": "2020-04-19T14:11:26.491392Z"
    },
    "hidden": true
   },
   "outputs": [],
   "source": [
    "category['category']=category['low1'].apply(lambda x: cat(x))"
   ]
  },
  {
   "cell_type": "code",
   "execution_count": 104,
   "metadata": {
    "ExecuteTime": {
     "end_time": "2020-04-19T14:15:53.394569Z",
     "start_time": "2020-04-19T14:15:53.384041Z"
    },
    "hidden": true
   },
   "outputs": [
    {
     "data": {
      "text/html": [
       "<div>\n",
       "<style scoped>\n",
       "    .dataframe tbody tr th:only-of-type {\n",
       "        vertical-align: middle;\n",
       "    }\n",
       "\n",
       "    .dataframe tbody tr th {\n",
       "        vertical-align: top;\n",
       "    }\n",
       "\n",
       "    .dataframe thead th {\n",
       "        text-align: right;\n",
       "    }\n",
       "</style>\n",
       "<table border=\"1\" class=\"dataframe\">\n",
       "  <thead>\n",
       "    <tr style=\"text-align: right;\">\n",
       "      <th></th>\n",
       "      <th>exe</th>\n",
       "      <th>count</th>\n",
       "      <th>low</th>\n",
       "      <th>low1</th>\n",
       "      <th>len</th>\n",
       "      <th>category</th>\n",
       "    </tr>\n",
       "  </thead>\n",
       "  <tbody>\n",
       "    <tr>\n",
       "      <th>0</th>\n",
       "      <td>QQ</td>\n",
       "      <td>17600</td>\n",
       "      <td>qq</td>\n",
       "      <td>qq</td>\n",
       "      <td>2.0</td>\n",
       "      <td>8.0</td>\n",
       "    </tr>\n",
       "    <tr>\n",
       "      <th>2</th>\n",
       "      <td>iexplore</td>\n",
       "      <td>9526</td>\n",
       "      <td>iexplore</td>\n",
       "      <td>iexplore</td>\n",
       "      <td>8.0</td>\n",
       "      <td>13.0</td>\n",
       "    </tr>\n",
       "    <tr>\n",
       "      <th>3</th>\n",
       "      <td>360se</td>\n",
       "      <td>7800</td>\n",
       "      <td>360se</td>\n",
       "      <td>360se</td>\n",
       "      <td>5.0</td>\n",
       "      <td>18.0</td>\n",
       "    </tr>\n",
       "    <tr>\n",
       "      <th>4</th>\n",
       "      <td>360tray</td>\n",
       "      <td>6792</td>\n",
       "      <td>360tray</td>\n",
       "      <td>360tray</td>\n",
       "      <td>7.0</td>\n",
       "      <td>18.0</td>\n",
       "    </tr>\n",
       "    <tr>\n",
       "      <th>5</th>\n",
       "      <td>360MobileMgr</td>\n",
       "      <td>5532</td>\n",
       "      <td>360mobilemgr</td>\n",
       "      <td>360mobilemgr</td>\n",
       "      <td>12.0</td>\n",
       "      <td>18.0</td>\n",
       "    </tr>\n",
       "  </tbody>\n",
       "</table>\n",
       "</div>"
      ],
      "text/plain": [
       "            exe  count           low          low1   len  category\n",
       "0            QQ  17600            qq            qq   2.0       8.0\n",
       "2      iexplore   9526      iexplore      iexplore   8.0      13.0\n",
       "3         360se   7800         360se         360se   5.0      18.0\n",
       "4       360tray   6792       360tray       360tray   7.0      18.0\n",
       "5  360MobileMgr   5532  360mobilemgr  360mobilemgr  12.0      18.0"
      ]
     },
     "execution_count": 104,
     "metadata": {},
     "output_type": "execute_result"
    }
   ],
   "source": [
    "category.head()"
   ]
  },
  {
   "cell_type": "code",
   "execution_count": 86,
   "metadata": {
    "ExecuteTime": {
     "end_time": "2020-04-19T14:10:59.403097Z",
     "start_time": "2020-04-19T14:10:59.392275Z"
    },
    "hidden": true
   },
   "outputs": [],
   "source": [
    "# category=category[np.isnan(category['category'])==True]"
   ]
  },
  {
   "cell_type": "code",
   "execution_count": 422,
   "metadata": {
    "ExecuteTime": {
     "end_time": "2020-04-10T14:31:47.706270Z",
     "start_time": "2020-04-10T14:31:47.700032Z"
    },
    "hidden": true
   },
   "outputs": [],
   "source": [
    "# category=category[category['count']>=5]"
   ]
  },
  {
   "cell_type": "code",
   "execution_count": 425,
   "metadata": {
    "ExecuteTime": {
     "end_time": "2020-04-10T14:31:53.805134Z",
     "start_time": "2020-04-10T14:31:53.744262Z"
    },
    "hidden": true
   },
   "outputs": [],
   "source": [
    "# category['digit']=category['low1'].apply(lambda x: 1 if ''.join(x.split('.')).isdigit()==True else 0)"
   ]
  },
  {
   "cell_type": "code",
   "execution_count": 428,
   "metadata": {
    "ExecuteTime": {
     "end_time": "2020-04-10T14:32:13.699112Z",
     "start_time": "2020-04-10T14:32:13.694383Z"
    },
    "hidden": true
   },
   "outputs": [],
   "source": [
    "# category=category[category['digit']==0]"
   ]
  },
  {
   "cell_type": "code",
   "execution_count": 429,
   "metadata": {
    "ExecuteTime": {
     "end_time": "2020-04-10T14:32:14.515406Z",
     "start_time": "2020-04-10T14:32:14.506379Z"
    },
    "hidden": true
   },
   "outputs": [],
   "source": [
    "# a=category[['exe']].sort_values(by=['exe'],ascending=True)"
   ]
  },
  {
   "cell_type": "code",
   "execution_count": 458,
   "metadata": {
    "ExecuteTime": {
     "end_time": "2020-04-10T14:51:01.025618Z",
     "start_time": "2020-04-10T14:51:01.017596Z"
    },
    "hidden": true
   },
   "outputs": [],
   "source": [
    "# def web(x):\n",
    "#     if (x.endswith('.exe')) or (x.endswith('.EXE')):\n",
    "#         return 'https://www.baidu.com/s?wd='+x\n",
    "#     if (x.endswith('.com')) or (x.endswith('.cn')) or (x.endswith('.net')):\n",
    "#         return 'https://'+x\n",
    "#     if x.startswith('www.'):\n",
    "#         return 'https://www.baidu.com/s?wd='+x\n",
    "#     else:\n",
    "#         return 'https://www.baidu.com/s?wd='+x+'.exe'"
   ]
  },
  {
   "cell_type": "code",
   "execution_count": 459,
   "metadata": {
    "ExecuteTime": {
     "end_time": "2020-04-10T14:51:01.632224Z",
     "start_time": "2020-04-10T14:51:01.621094Z"
    },
    "hidden": true
   },
   "outputs": [],
   "source": [
    "# a['extend']=a['exe'].apply(lambda x: web(x))"
   ]
  },
  {
   "cell_type": "code",
   "execution_count": 462,
   "metadata": {
    "ExecuteTime": {
     "end_time": "2020-04-10T14:51:03.863996Z",
     "start_time": "2020-04-10T14:51:03.859349Z"
    },
    "hidden": true
   },
   "outputs": [],
   "source": [
    "# c=a[~a['exe'].isin(b['exe'])]"
   ]
  },
  {
   "cell_type": "code",
   "execution_count": 464,
   "metadata": {
    "ExecuteTime": {
     "end_time": "2020-04-10T14:51:06.004408Z",
     "start_time": "2020-04-10T14:51:05.531977Z"
    },
    "hidden": true
   },
   "outputs": [],
   "source": [
    "# c.to_excel('category_code.xlsx',index=False,header=False,encoding=\"utf_8_sig\")"
   ]
  },
  {
   "cell_type": "code",
   "execution_count": 465,
   "metadata": {
    "ExecuteTime": {
     "end_time": "2020-04-10T14:51:06.430629Z",
     "start_time": "2020-04-10T14:51:06.404890Z"
    },
    "hidden": true
   },
   "outputs": [],
   "source": [
    "# b.to_excel('category_code_100.xlsx',index=False,header=False,encoding=\"utf_8_sig\")"
   ]
  },
  {
   "cell_type": "code",
   "execution_count": null,
   "metadata": {
    "hidden": true
   },
   "outputs": [],
   "source": []
  },
  {
   "cell_type": "markdown",
   "metadata": {
    "heading_collapsed": true,
    "hidden": true
   },
   "source": [
    "###### combine"
   ]
  },
  {
   "cell_type": "code",
   "execution_count": 142,
   "metadata": {
    "ExecuteTime": {
     "end_time": "2020-04-19T14:23:17.517819Z",
     "start_time": "2020-04-19T14:23:17.500837Z"
    },
    "hidden": true
   },
   "outputs": [],
   "source": [
    "pre=pd.read_excel('./100.xlsx')"
   ]
  },
  {
   "cell_type": "code",
   "execution_count": 143,
   "metadata": {
    "ExecuteTime": {
     "end_time": "2020-04-19T14:23:17.994193Z",
     "start_time": "2020-04-19T14:23:17.981951Z"
    },
    "hidden": true
   },
   "outputs": [],
   "source": [
    "pre['same']=pre.apply(lambda x: 0 if x.yindi==x.lvlinyan==x.lvgongjing==x.jiqian==x.liyuanyuan else 1, axis=1)"
   ]
  },
  {
   "cell_type": "code",
   "execution_count": 144,
   "metadata": {
    "ExecuteTime": {
     "end_time": "2020-04-19T14:23:18.392684Z",
     "start_time": "2020-04-19T14:23:18.376970Z"
    },
    "hidden": true
   },
   "outputs": [],
   "source": [
    "pre['mode']=pre.apply(lambda x: np.argmax(np.bincount([x.yindi,x.lvlinyan,x.lvgongjing,x.jiqian,x.liyuanyuan])), axis=1)"
   ]
  },
  {
   "cell_type": "code",
   "execution_count": 145,
   "metadata": {
    "ExecuteTime": {
     "end_time": "2020-04-19T14:23:18.729713Z",
     "start_time": "2020-04-19T14:23:18.717848Z"
    },
    "hidden": true
   },
   "outputs": [
    {
     "name": "stdout",
     "output_type": "stream",
     "text": [
      "yindi 95\n",
      "lvlinyan 95\n",
      "lvgongjing 98\n",
      "jiqian 99\n",
      "liyuanyuan 92\n"
     ]
    }
   ],
   "source": [
    "for i in ['yindi','lvlinyan','lvgongjing','jiqian','liyuanyuan']:\n",
    "    print(i,len(pre[pre[i]==pre['mode']]))"
   ]
  },
  {
   "cell_type": "code",
   "execution_count": 1,
   "metadata": {
    "ExecuteTime": {
     "end_time": "2020-04-30T09:45:44.619483Z",
     "start_time": "2020-04-30T09:45:44.607827Z"
    },
    "hidden": true
   },
   "outputs": [
    {
     "data": {
      "text/plain": [
       "95.8"
      ]
     },
     "execution_count": 1,
     "metadata": {},
     "output_type": "execute_result"
    }
   ],
   "source": [
    "(95+95+98+99+92)/5"
   ]
  },
  {
   "cell_type": "code",
   "execution_count": 146,
   "metadata": {
    "ExecuteTime": {
     "end_time": "2020-04-19T14:23:19.137094Z",
     "start_time": "2020-04-19T14:23:19.133261Z"
    },
    "hidden": true
   },
   "outputs": [],
   "source": [
    "pre=pre[['exe','mode']]"
   ]
  },
  {
   "cell_type": "code",
   "execution_count": 147,
   "metadata": {
    "ExecuteTime": {
     "end_time": "2020-04-19T14:23:19.856335Z",
     "start_time": "2020-04-19T14:23:19.565261Z"
    },
    "hidden": true
   },
   "outputs": [],
   "source": [
    "category_code=pd.read_excel('category_code.xlsx',names=['exe','extend','mode'])"
   ]
  },
  {
   "cell_type": "code",
   "execution_count": 148,
   "metadata": {
    "ExecuteTime": {
     "end_time": "2020-04-19T14:23:19.899582Z",
     "start_time": "2020-04-19T14:23:19.895858Z"
    },
    "hidden": true
   },
   "outputs": [],
   "source": [
    "category_code=category_code[['exe','mode']]"
   ]
  },
  {
   "cell_type": "code",
   "execution_count": 149,
   "metadata": {
    "ExecuteTime": {
     "end_time": "2020-04-19T14:23:20.747363Z",
     "start_time": "2020-04-19T14:23:20.743260Z"
    },
    "hidden": true
   },
   "outputs": [],
   "source": [
    "category_code=category_code.append(pre)"
   ]
  },
  {
   "cell_type": "code",
   "execution_count": 150,
   "metadata": {
    "ExecuteTime": {
     "end_time": "2020-04-19T14:23:21.173833Z",
     "start_time": "2020-04-19T14:23:21.169468Z"
    },
    "hidden": true
   },
   "outputs": [
    {
     "data": {
      "text/plain": [
       "5121"
      ]
     },
     "execution_count": 150,
     "metadata": {},
     "output_type": "execute_result"
    }
   ],
   "source": [
    "len(category_code)"
   ]
  },
  {
   "cell_type": "code",
   "execution_count": 151,
   "metadata": {
    "ExecuteTime": {
     "end_time": "2020-04-19T14:23:22.197789Z",
     "start_time": "2020-04-19T14:23:22.188167Z"
    },
    "hidden": true
   },
   "outputs": [],
   "source": [
    "diction=dict(category_code[['exe','mode']].values)"
   ]
  },
  {
   "cell_type": "code",
   "execution_count": 152,
   "metadata": {
    "ExecuteTime": {
     "end_time": "2020-04-19T14:23:24.863677Z",
     "start_time": "2020-04-19T14:23:24.788885Z"
    },
    "hidden": true
   },
   "outputs": [],
   "source": [
    "def cat(x):\n",
    "    if x in auto:\n",
    "        return 18 \n",
    "    for i in video:\n",
    "        if i in x:\n",
    "            return 1\n",
    "    for i in game:\n",
    "        if i in x:\n",
    "            return 2\n",
    "    for i in music:\n",
    "        if i in x:\n",
    "            return 3\n",
    "    for i in reading:\n",
    "        if i in x:\n",
    "            return 4\n",
    "    for i in news:\n",
    "        if i in x:\n",
    "            return 5\n",
    "    for i in office:\n",
    "        if i in x:\n",
    "            return 6\n",
    "    for i in tool:\n",
    "        if i in x:\n",
    "            return 7\n",
    "    if x in commu:\n",
    "        return 8\n",
    "    for i in forum:\n",
    "        if i in x:\n",
    "            return 9\n",
    "    for i in pay:\n",
    "        if i in x:\n",
    "            return 10\n",
    "    for i in shopping:\n",
    "        if i in x:\n",
    "            return 11\n",
    "    for i in travel:\n",
    "        if i in x:\n",
    "            return 12\n",
    "    for i in explore:\n",
    "        if i in x:\n",
    "            return 13\n",
    "    for i in service:\n",
    "        if i in x:\n",
    "            return 14\n",
    "    for i in recruitment:\n",
    "        if i in x:\n",
    "            return 16\n",
    "    if '360' in x:\n",
    "        return 18\n",
    "    if i in diction:\n",
    "        return diction[x]\n",
    "    else:\n",
    "        return np.nan"
   ]
  },
  {
   "cell_type": "code",
   "execution_count": 153,
   "metadata": {
    "ExecuteTime": {
     "end_time": "2020-04-19T14:23:28.559937Z",
     "start_time": "2020-04-19T14:23:28.131001Z"
    },
    "hidden": true
   },
   "outputs": [],
   "source": [
    "category['category']=category['low1'].apply(lambda x: cat(x))"
   ]
  },
  {
   "cell_type": "code",
   "execution_count": 154,
   "metadata": {
    "ExecuteTime": {
     "end_time": "2020-04-19T14:23:29.157780Z",
     "start_time": "2020-04-19T14:23:29.146788Z"
    },
    "hidden": true
   },
   "outputs": [
    {
     "data": {
      "text/html": [
       "<div>\n",
       "<style scoped>\n",
       "    .dataframe tbody tr th:only-of-type {\n",
       "        vertical-align: middle;\n",
       "    }\n",
       "\n",
       "    .dataframe tbody tr th {\n",
       "        vertical-align: top;\n",
       "    }\n",
       "\n",
       "    .dataframe thead th {\n",
       "        text-align: right;\n",
       "    }\n",
       "</style>\n",
       "<table border=\"1\" class=\"dataframe\">\n",
       "  <thead>\n",
       "    <tr style=\"text-align: right;\">\n",
       "      <th></th>\n",
       "      <th>exe</th>\n",
       "      <th>count</th>\n",
       "      <th>low</th>\n",
       "      <th>low1</th>\n",
       "      <th>len</th>\n",
       "      <th>category</th>\n",
       "    </tr>\n",
       "  </thead>\n",
       "  <tbody>\n",
       "    <tr>\n",
       "      <th>0</th>\n",
       "      <td>QQ</td>\n",
       "      <td>17600</td>\n",
       "      <td>qq</td>\n",
       "      <td>qq</td>\n",
       "      <td>2.0</td>\n",
       "      <td>8.0</td>\n",
       "    </tr>\n",
       "    <tr>\n",
       "      <th>2</th>\n",
       "      <td>iexplore</td>\n",
       "      <td>9526</td>\n",
       "      <td>iexplore</td>\n",
       "      <td>iexplore</td>\n",
       "      <td>8.0</td>\n",
       "      <td>13.0</td>\n",
       "    </tr>\n",
       "    <tr>\n",
       "      <th>3</th>\n",
       "      <td>360se</td>\n",
       "      <td>7800</td>\n",
       "      <td>360se</td>\n",
       "      <td>360se</td>\n",
       "      <td>5.0</td>\n",
       "      <td>18.0</td>\n",
       "    </tr>\n",
       "    <tr>\n",
       "      <th>4</th>\n",
       "      <td>360tray</td>\n",
       "      <td>6792</td>\n",
       "      <td>360tray</td>\n",
       "      <td>360tray</td>\n",
       "      <td>7.0</td>\n",
       "      <td>18.0</td>\n",
       "    </tr>\n",
       "    <tr>\n",
       "      <th>5</th>\n",
       "      <td>360MobileMgr</td>\n",
       "      <td>5532</td>\n",
       "      <td>360mobilemgr</td>\n",
       "      <td>360mobilemgr</td>\n",
       "      <td>12.0</td>\n",
       "      <td>18.0</td>\n",
       "    </tr>\n",
       "  </tbody>\n",
       "</table>\n",
       "</div>"
      ],
      "text/plain": [
       "            exe  count           low          low1   len  category\n",
       "0            QQ  17600            qq            qq   2.0       8.0\n",
       "2      iexplore   9526      iexplore      iexplore   8.0      13.0\n",
       "3         360se   7800         360se         360se   5.0      18.0\n",
       "4       360tray   6792       360tray       360tray   7.0      18.0\n",
       "5  360MobileMgr   5532  360mobilemgr  360mobilemgr  12.0      18.0"
      ]
     },
     "execution_count": 154,
     "metadata": {},
     "output_type": "execute_result"
    }
   ],
   "source": [
    "category.head()"
   ]
  },
  {
   "cell_type": "code",
   "execution_count": 155,
   "metadata": {
    "ExecuteTime": {
     "end_time": "2020-04-19T14:23:50.475390Z",
     "start_time": "2020-04-19T14:23:50.467620Z"
    },
    "hidden": true
   },
   "outputs": [],
   "source": [
    "category=category[category['category']!=18]"
   ]
  },
  {
   "cell_type": "code",
   "execution_count": 159,
   "metadata": {
    "ExecuteTime": {
     "end_time": "2020-04-19T14:27:20.205828Z",
     "start_time": "2020-04-19T14:27:20.199409Z"
    },
    "hidden": true
   },
   "outputs": [
    {
     "data": {
      "text/plain": [
       "9425"
      ]
     },
     "execution_count": 159,
     "metadata": {},
     "output_type": "execute_result"
    }
   ],
   "source": [
    "len(category[np.isnan(category['category'])==False])"
   ]
  },
  {
   "cell_type": "code",
   "execution_count": 158,
   "metadata": {
    "ExecuteTime": {
     "end_time": "2020-04-19T14:27:17.148449Z",
     "start_time": "2020-04-19T14:27:17.143082Z"
    },
    "hidden": true
   },
   "outputs": [],
   "source": [
    "category=category[['exe','low1','category']]"
   ]
  },
  {
   "cell_type": "code",
   "execution_count": 160,
   "metadata": {
    "ExecuteTime": {
     "end_time": "2020-04-19T14:27:25.741926Z",
     "start_time": "2020-04-19T14:27:25.568654Z"
    },
    "hidden": true
   },
   "outputs": [],
   "source": [
    "category.to_csv('./combine.csv',header=False,index=False)"
   ]
  },
  {
   "cell_type": "markdown",
   "metadata": {
    "hidden": true
   },
   "source": [
    " "
   ]
  },
  {
   "cell_type": "code",
   "execution_count": null,
   "metadata": {
    "hidden": true
   },
   "outputs": [],
   "source": []
  }
 ],
 "metadata": {
  "kernelspec": {
   "display_name": "Python 3",
   "language": "python",
   "name": "python3"
  },
  "language_info": {
   "codemirror_mode": {
    "name": "ipython",
    "version": 3
   },
   "file_extension": ".py",
   "mimetype": "text/x-python",
   "name": "python",
   "nbconvert_exporter": "python",
   "pygments_lexer": "ipython3",
   "version": "3.6.2"
  },
  "toc": {
   "nav_menu": {},
   "number_sections": true,
   "sideBar": true,
   "skip_h1_title": false,
   "title_cell": "Table of Contents",
   "title_sidebar": "Contents",
   "toc_cell": false,
   "toc_position": {},
   "toc_section_display": true,
   "toc_window_display": false
  }
 },
 "nbformat": 4,
 "nbformat_minor": 2
}
